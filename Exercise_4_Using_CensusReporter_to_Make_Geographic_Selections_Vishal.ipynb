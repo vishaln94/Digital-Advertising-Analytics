{
  "nbformat": 4,
  "nbformat_minor": 0,
  "metadata": {
    "colab": {
      "name": "Exercise 4 - Using CensusReporter to Make Geographic Selections - Vishal.ipynb",
      "provenance": [],
      "include_colab_link": true
    },
    "kernelspec": {
      "name": "python3",
      "display_name": "Python 3"
    }
  },
  "cells": [
    {
      "cell_type": "markdown",
      "metadata": {
        "id": "view-in-github",
        "colab_type": "text"
      },
      "source": [
        "<a href=\"https://colab.research.google.com/github/vishaln94/Digital-Advertising-Analytics/blob/master/Exercise_4_Using_CensusReporter_to_Make_Geographic_Selections_Vishal.ipynb\" target=\"_parent\"><img src=\"https://colab.research.google.com/assets/colab-badge.svg\" alt=\"Open In Colab\"/></a>"
      ]
    },
    {
      "cell_type": "code",
      "metadata": {
        "id": "u7ChHenpSpH_",
        "colab_type": "code",
        "outputId": "d23b2f61-dee1-47cb-ece0-c15505c41840",
        "colab": {
          "base_uri": "https://localhost:8080/",
          "height": 120
        }
      },
      "source": [
        "from google.colab import drive\n",
        "drive.mount('/content/drive')"
      ],
      "execution_count": 0,
      "outputs": [
        {
          "output_type": "stream",
          "text": [
            "Go to this URL in a browser: https://accounts.google.com/o/oauth2/auth?client_id=947318989803-6bn6qk8qdgf4n4g3pfee6491hc0brc4i.apps.googleusercontent.com&redirect_uri=urn%3aietf%3awg%3aoauth%3a2.0%3aoob&response_type=code&scope=email%20https%3a%2f%2fwww.googleapis.com%2fauth%2fdocs.test%20https%3a%2f%2fwww.googleapis.com%2fauth%2fdrive%20https%3a%2f%2fwww.googleapis.com%2fauth%2fdrive.photos.readonly%20https%3a%2f%2fwww.googleapis.com%2fauth%2fpeopleapi.readonly\n",
            "\n",
            "Enter your authorization code:\n",
            "··········\n",
            "Mounted at /content/drive\n"
          ],
          "name": "stdout"
        }
      ]
    },
    {
      "cell_type": "code",
      "metadata": {
        "id": "e20Gqq_KTWya",
        "colab_type": "code",
        "colab": {}
      },
      "source": [
        "import pandas as pd"
      ],
      "execution_count": 0,
      "outputs": []
    },
    {
      "cell_type": "code",
      "metadata": {
        "id": "myHheutk3vfw",
        "colab_type": "code",
        "colab": {}
      },
      "source": [
        "from IPython.core.interactiveshell import InteractiveShell\n",
        "InteractiveShell.ast_node_interactivity = \"all\""
      ],
      "execution_count": 0,
      "outputs": []
    },
    {
      "cell_type": "markdown",
      "metadata": {
        "id": "_r4-oPc4e1tP",
        "colab_type": "text"
      },
      "source": [
        "Parameter 1: The household income that we should target would be $50K - 75K"
      ]
    },
    {
      "cell_type": "markdown",
      "metadata": {
        "id": "ySW0CqWzfhOo",
        "colab_type": "text"
      },
      "source": [
        "Parameter 2: The age range that we should target is 18-34. "
      ]
    },
    {
      "cell_type": "markdown",
      "metadata": {
        "id": "6b51cM5Wf-yV",
        "colab_type": "text"
      },
      "source": [
        "Parameter 3: We should look for areas with a large hispanic population."
      ]
    },
    {
      "cell_type": "markdown",
      "metadata": {
        "id": "VqE1LpP2lnQa",
        "colab_type": "text"
      },
      "source": [
        "Table ID's needed: Table B01001, B03002 , B19001\n"
      ]
    },
    {
      "cell_type": "code",
      "metadata": {
        "id": "JmQ-n4uSo3pS",
        "colab_type": "code",
        "colab": {}
      },
      "source": [
        "tableids = ['B01001', 'B03002', 'B19001']"
      ],
      "execution_count": 0,
      "outputs": []
    },
    {
      "cell_type": "code",
      "metadata": {
        "id": "VIcnJSCgTK2o",
        "colab_type": "code",
        "colab": {}
      },
      "source": [
        "csvfile = 'drive/My Drive/Colab Notebooks/msas.csv'\n"
      ],
      "execution_count": 0,
      "outputs": []
    },
    {
      "cell_type": "code",
      "metadata": {
        "id": "TjU-LXIYTbCF",
        "colab_type": "code",
        "outputId": "1f7a47c7-34ae-42ae-e76a-af80e878d5e1",
        "colab": {
          "base_uri": "https://localhost:8080/",
          "height": 197
        }
      },
      "source": [
        "df = pd.read_csv(csvfile)\n",
        "df.head()"
      ],
      "execution_count": 0,
      "outputs": [
        {
          "output_type": "execute_result",
          "data": {
            "text/html": [
              "<div>\n",
              "<style scoped>\n",
              "    .dataframe tbody tr th:only-of-type {\n",
              "        vertical-align: middle;\n",
              "    }\n",
              "\n",
              "    .dataframe tbody tr th {\n",
              "        vertical-align: top;\n",
              "    }\n",
              "\n",
              "    .dataframe thead th {\n",
              "        text-align: right;\n",
              "    }\n",
              "</style>\n",
              "<table border=\"1\" class=\"dataframe\">\n",
              "  <thead>\n",
              "    <tr style=\"text-align: right;\">\n",
              "      <th></th>\n",
              "      <th>CBSA</th>\n",
              "      <th>NAME</th>\n",
              "      <th>POPESTIMATE2017</th>\n",
              "    </tr>\n",
              "  </thead>\n",
              "  <tbody>\n",
              "    <tr>\n",
              "      <th>0</th>\n",
              "      <td>10180</td>\n",
              "      <td>Abilene, TX</td>\n",
              "      <td>170219</td>\n",
              "    </tr>\n",
              "    <tr>\n",
              "      <th>1</th>\n",
              "      <td>10420</td>\n",
              "      <td>Akron, OH</td>\n",
              "      <td>703505</td>\n",
              "    </tr>\n",
              "    <tr>\n",
              "      <th>2</th>\n",
              "      <td>10500</td>\n",
              "      <td>Albany, GA</td>\n",
              "      <td>151434</td>\n",
              "    </tr>\n",
              "    <tr>\n",
              "      <th>3</th>\n",
              "      <td>10540</td>\n",
              "      <td>Albany, OR</td>\n",
              "      <td>125047</td>\n",
              "    </tr>\n",
              "    <tr>\n",
              "      <th>4</th>\n",
              "      <td>10580</td>\n",
              "      <td>Albany-Schenectady-Troy, NY</td>\n",
              "      <td>886188</td>\n",
              "    </tr>\n",
              "  </tbody>\n",
              "</table>\n",
              "</div>"
            ],
            "text/plain": [
              "    CBSA                         NAME  POPESTIMATE2017\n",
              "0  10180                  Abilene, TX           170219\n",
              "1  10420                    Akron, OH           703505\n",
              "2  10500                   Albany, GA           151434\n",
              "3  10540                   Albany, OR           125047\n",
              "4  10580  Albany-Schenectady-Troy, NY           886188"
            ]
          },
          "metadata": {
            "tags": []
          },
          "execution_count": 10
        }
      ]
    },
    {
      "cell_type": "code",
      "metadata": {
        "id": "_n_iho7BqfiQ",
        "colab_type": "code",
        "colab": {}
      },
      "source": [
        "import requests\n",
        "import json"
      ],
      "execution_count": 0,
      "outputs": []
    },
    {
      "cell_type": "code",
      "metadata": {
        "id": "SFGoXpvUpgLZ",
        "colab_type": "code",
        "colab": {}
      },
      "source": [
        "tablestringid = ','.join(tableids)"
      ],
      "execution_count": 0,
      "outputs": []
    },
    {
      "cell_type": "code",
      "metadata": {
        "id": "3bzMyZKbEg8e",
        "colab_type": "code",
        "colab": {}
      },
      "source": [
        "requesturl = 'https://api.censusreporter.org/1.0/data/show/latest?table_ids=%s&geo_ids=310|01000US' % tablestringid"
      ],
      "execution_count": 0,
      "outputs": []
    },
    {
      "cell_type": "code",
      "metadata": {
        "id": "3hsl8TaoGUi_",
        "colab_type": "code",
        "colab": {}
      },
      "source": [
        "loadedjson = requests.get(requesturl)"
      ],
      "execution_count": 0,
      "outputs": []
    },
    {
      "cell_type": "code",
      "metadata": {
        "id": "bDveX3MyGcWy",
        "colab_type": "code",
        "colab": {}
      },
      "source": [
        "parsedjson = json.loads(loadedjson.text)"
      ],
      "execution_count": 0,
      "outputs": []
    },
    {
      "cell_type": "markdown",
      "metadata": {
        "id": "mQ84kwMcAGqP",
        "colab_type": "text"
      },
      "source": [
        "Question 1: Finding the city with the maximum population with those income ranges. "
      ]
    },
    {
      "cell_type": "code",
      "metadata": {
        "id": "oc15l50cIVUw",
        "colab_type": "code",
        "outputId": "4acc2f02-457a-4ce5-cf48-30d016f6eabe",
        "colab": {
          "base_uri": "https://localhost:8080/",
          "height": 350
        }
      },
      "source": [
        "parsedjson['tables']['B19001']"
      ],
      "execution_count": 0,
      "outputs": [
        {
          "output_type": "execute_result",
          "data": {
            "text/plain": [
              "{'columns': {'B19001001': {'indent': 0, 'name': 'Total:'},\n",
              "  'B19001002': {'indent': 1, 'name': 'Less than $10,000'},\n",
              "  'B19001003': {'indent': 1, 'name': '$10,000 to $14,999'},\n",
              "  'B19001004': {'indent': 1, 'name': '$15,000 to $19,999'},\n",
              "  'B19001005': {'indent': 1, 'name': '$20,000 to $24,999'},\n",
              "  'B19001006': {'indent': 1, 'name': '$25,000 to $29,999'},\n",
              "  'B19001007': {'indent': 1, 'name': '$30,000 to $34,999'},\n",
              "  'B19001008': {'indent': 1, 'name': '$35,000 to $39,999'},\n",
              "  'B19001009': {'indent': 1, 'name': '$40,000 to $44,999'},\n",
              "  'B19001010': {'indent': 1, 'name': '$45,000 to $49,999'},\n",
              "  'B19001011': {'indent': 1, 'name': '$50,000 to $59,999'},\n",
              "  'B19001012': {'indent': 1, 'name': '$60,000 to $74,999'},\n",
              "  'B19001013': {'indent': 1, 'name': '$75,000 to $99,999'},\n",
              "  'B19001014': {'indent': 1, 'name': '$100,000 to $124,999'},\n",
              "  'B19001015': {'indent': 1, 'name': '$125,000 to $149,999'},\n",
              "  'B19001016': {'indent': 1, 'name': '$150,000 to $199,999'},\n",
              "  'B19001017': {'indent': 1, 'name': '$200,000 or more'}},\n",
              " 'denominator_column_id': 'B19001001',\n",
              " 'title': 'Household Income in the Past 12 Months (In 2017 Inflation-adjusted Dollars)',\n",
              " 'universe': 'Households'}"
            ]
          },
          "metadata": {
            "tags": []
          },
          "execution_count": 141
        }
      ]
    },
    {
      "cell_type": "code",
      "metadata": {
        "id": "t1AkiRRHKYEE",
        "colab_type": "code",
        "colab": {}
      },
      "source": [
        "inc1 = pd.DataFrame({ '50 - 59K': { id_: data['B19001']['estimate']['B19001012'] for id_, data in parsedjson['data'].items() }})\n",
        "inc2 = pd.DataFrame({ '60 - 74K': { id_: data['B19001']['estimate']['B19001013'] for id_, data in parsedjson['data'].items() }})"
      ],
      "execution_count": 0,
      "outputs": []
    },
    {
      "cell_type": "code",
      "metadata": {
        "id": "lPCWbep3ySgP",
        "colab_type": "code",
        "outputId": "a173ba88-975b-4dc9-96b4-10fdf89805f5",
        "colab": {
          "base_uri": "https://localhost:8080/",
          "height": 50
        }
      },
      "source": [
        "inc1.loc[inc1['50 - 59K'].idxmax()]"
      ],
      "execution_count": 0,
      "outputs": [
        {
          "output_type": "execute_result",
          "data": {
            "text/plain": [
              "50 - 59K    606435.0\n",
              "Name: 31000US35620, dtype: float64"
            ]
          },
          "metadata": {
            "tags": []
          },
          "execution_count": 88
        }
      ]
    },
    {
      "cell_type": "code",
      "metadata": {
        "id": "5vnBpj_G2uz6",
        "colab_type": "code",
        "outputId": "0c555976-1ab8-4519-edb0-0f2e08386cfb",
        "colab": {
          "base_uri": "https://localhost:8080/",
          "height": 50
        }
      },
      "source": [
        "inc2.loc[inc2['60 - 74K'].idxmax()]"
      ],
      "execution_count": 0,
      "outputs": [
        {
          "output_type": "execute_result",
          "data": {
            "text/plain": [
              "60 - 74K    824870.0\n",
              "Name: 31000US35620, dtype: float64"
            ]
          },
          "metadata": {
            "tags": []
          },
          "execution_count": 89
        }
      ]
    },
    {
      "cell_type": "markdown",
      "metadata": {
        "id": "zR8UvBXGK_EI",
        "colab_type": "text"
      },
      "source": [
        "Based on the output above, the city with the maximum individuals with those income ranges is New York/NJ area."
      ]
    },
    {
      "cell_type": "markdown",
      "metadata": {
        "id": "g-3obpcOAQJb",
        "colab_type": "text"
      },
      "source": [
        "Question 2: Finding the city with the maximum population with the age ranges."
      ]
    },
    {
      "cell_type": "code",
      "metadata": {
        "id": "j-vjDnnksvyb",
        "colab_type": "code",
        "colab": {}
      },
      "source": [
        "age1 = pd.DataFrame({'Age Range': { id_: data['B01001']['estimate']['B01001007'] for id_, data in parsedjson['data'].items() }})\n",
        "age2 = pd.DataFrame({'Age Range': { id_: data['B01001']['estimate']['B01001008'] for id_, data in parsedjson['data'].items() }})\n",
        "age3 = pd.DataFrame({'Age Range': { id_: data['B01001']['estimate']['B01001009'] for id_, data in parsedjson['data'].items() }})\n",
        "age4 = pd.DataFrame({'Age Range': { id_: data['B01001']['estimate']['B01001010'] for id_, data in parsedjson['data'].items() }})\n",
        "age5 = pd.DataFrame({'Age Range': { id_: data['B01001']['estimate']['B01001011'] for id_, data in parsedjson['data'].items() }})"
      ],
      "execution_count": 0,
      "outputs": []
    },
    {
      "cell_type": "code",
      "metadata": {
        "id": "aG1pj8d6sQjU",
        "colab_type": "code",
        "outputId": "5b89d901-1d51-4d07-ed58-5b99a9821198",
        "colab": {
          "base_uri": "https://localhost:8080/",
          "height": 117
        }
      },
      "source": [
        "age1.loc[age1['Age Range'].idxmax()]\n",
        "age2.loc[age2['Age Range'].idxmax()]\n",
        "age3.loc[age3['Age Range'].idxmax()]\n",
        "age4.loc[age4['Age Range'].idxmax()]\n",
        "age5.loc[age5['Age Range'].idxmax()]"
      ],
      "execution_count": 0,
      "outputs": [
        {
          "output_type": "execute_result",
          "data": {
            "text/plain": [
              "Age Range    248434.0\n",
              "Name: 31000US35620, dtype: float64"
            ]
          },
          "metadata": {
            "tags": []
          },
          "execution_count": 99
        },
        {
          "output_type": "execute_result",
          "data": {
            "text/plain": [
              "Age Range    133732.0\n",
              "Name: 31000US35620, dtype: float64"
            ]
          },
          "metadata": {
            "tags": []
          },
          "execution_count": 99
        },
        {
          "output_type": "execute_result",
          "data": {
            "text/plain": [
              "Age Range    132580.0\n",
              "Name: 31000US35620, dtype: float64"
            ]
          },
          "metadata": {
            "tags": []
          },
          "execution_count": 99
        },
        {
          "output_type": "execute_result",
          "data": {
            "text/plain": [
              "Age Range    411899.0\n",
              "Name: 31000US35620, dtype: float64"
            ]
          },
          "metadata": {
            "tags": []
          },
          "execution_count": 99
        },
        {
          "output_type": "execute_result",
          "data": {
            "text/plain": [
              "Age Range    750663.0\n",
              "Name: 31000US35620, dtype: float64"
            ]
          },
          "metadata": {
            "tags": []
          },
          "execution_count": 99
        }
      ]
    },
    {
      "cell_type": "markdown",
      "metadata": {
        "id": "hzmo--lqLSKl",
        "colab_type": "text"
      },
      "source": [
        "Based on the output above, the city with the maximum individuals with those age ranges is New York/NJ area."
      ]
    },
    {
      "cell_type": "markdown",
      "metadata": {
        "id": "wdCKx-prBjVr",
        "colab_type": "text"
      },
      "source": [
        "Question 3: Finding the city with the highest population for that race"
      ]
    },
    {
      "cell_type": "code",
      "metadata": {
        "id": "obTyeU-I3ndm",
        "colab_type": "code",
        "colab": {}
      },
      "source": [
        "race = pd.DataFrame({ 'Hispanic Race': { id_: data['B03002']['estimate']['B03002012'] for id_, data in parsedjson['data'].items() }})"
      ],
      "execution_count": 0,
      "outputs": []
    },
    {
      "cell_type": "code",
      "metadata": {
        "id": "yw6fn1Wh3XTi",
        "colab_type": "code",
        "outputId": "81cd8036-70fa-4d25-9d20-2da3128d99d8",
        "colab": {
          "base_uri": "https://localhost:8080/",
          "height": 50
        }
      },
      "source": [
        "race.loc[race['Hispanic Race'].idxmax()]"
      ],
      "execution_count": 0,
      "outputs": [
        {
          "output_type": "execute_result",
          "data": {
            "text/plain": [
              "Hispanic Race    5972751.0\n",
              "Name: 31000US31080, dtype: float64"
            ]
          },
          "metadata": {
            "tags": []
          },
          "execution_count": 104
        }
      ]
    },
    {
      "cell_type": "markdown",
      "metadata": {
        "id": "J1eQfgktLfmP",
        "colab_type": "text"
      },
      "source": [
        "Based on the output above, LA has the most hispanics. "
      ]
    },
    {
      "cell_type": "markdown",
      "metadata": {
        "id": "iiQNliUn6qeh",
        "colab_type": "text"
      },
      "source": [
        "Question 4"
      ]
    },
    {
      "cell_type": "code",
      "metadata": {
        "id": "VwXqrVLkGB8q",
        "colab_type": "code",
        "outputId": "d4fef4d1-7285-43bd-a727-0507f8766bfe",
        "colab": {
          "base_uri": "https://localhost:8080/",
          "height": 33
        }
      },
      "source": [
        "income = int(inc1.loc[inc1['50 - 59K'].idxmax()]) + int(inc2.loc[inc2['60 - 74K'].idxmax()])\n",
        "income"
      ],
      "execution_count": 0,
      "outputs": [
        {
          "output_type": "execute_result",
          "data": {
            "text/plain": [
              "1431305"
            ]
          },
          "metadata": {
            "tags": []
          },
          "execution_count": 170
        }
      ]
    },
    {
      "cell_type": "code",
      "metadata": {
        "id": "Ufwk9ha16sTl",
        "colab_type": "code",
        "colab": {}
      },
      "source": [
        "incomesum = int(inc1.sum()) + int(inc2.sum())"
      ],
      "execution_count": 0,
      "outputs": []
    },
    {
      "cell_type": "markdown",
      "metadata": {
        "id": "1ROPOj1yKkHJ",
        "colab_type": "text"
      },
      "source": [
        "Calculating the percentage for New York area regarding income. "
      ]
    },
    {
      "cell_type": "code",
      "metadata": {
        "id": "oBwc7setKcSa",
        "colab_type": "code",
        "outputId": "e8c357bd-859f-4de8-bd04-23a24d27bf74",
        "colab": {
          "base_uri": "https://localhost:8080/",
          "height": 33
        }
      },
      "source": [
        "income/incomesum"
      ],
      "execution_count": 0,
      "outputs": [
        {
          "output_type": "execute_result",
          "data": {
            "text/plain": [
              "0.0572046857879845"
            ]
          },
          "metadata": {
            "tags": []
          },
          "execution_count": 147
        }
      ]
    },
    {
      "cell_type": "code",
      "metadata": {
        "id": "cSDbJgWQ9URA",
        "colab_type": "code",
        "colab": {}
      },
      "source": [
        "agetotal = int(age1.loc[age1['Age Range'].idxmax()]) + int(age2.loc[age2['Age Range'].idxmax()]) + int(age3.loc[age3['Age Range'].idxmax()]) + int(age4.loc[age4['Age Range'].idxmax()]) + int(age5.loc[age5['Age Range'].idxmax()])"
      ],
      "execution_count": 0,
      "outputs": []
    },
    {
      "cell_type": "code",
      "metadata": {
        "id": "Cn9XlsQM9HEU",
        "colab_type": "code",
        "colab": {}
      },
      "source": [
        "agetotal2 = int(age1.sum() ) + int(age1.sum()) + int(age3.sum()) + int(age4.sum()) + int(age5.sum())"
      ],
      "execution_count": 0,
      "outputs": []
    },
    {
      "cell_type": "markdown",
      "metadata": {
        "id": "PNpTTEJCL_NV",
        "colab_type": "text"
      },
      "source": [
        "Calculating the percentage for New York area regarding age"
      ]
    },
    {
      "cell_type": "code",
      "metadata": {
        "id": "TBJoh9BKMALG",
        "colab_type": "code",
        "outputId": "96f9e65f-1409-46be-b3f8-7a0e226b919d",
        "colab": {
          "base_uri": "https://localhost:8080/",
          "height": 33
        }
      },
      "source": [
        "agetotal/agetotal2"
      ],
      "execution_count": 0,
      "outputs": [
        {
          "output_type": "execute_result",
          "data": {
            "text/plain": [
              "0.059436236186491756"
            ]
          },
          "metadata": {
            "tags": []
          },
          "execution_count": 150
        }
      ]
    },
    {
      "cell_type": "code",
      "metadata": {
        "id": "Cgy4NxeZIw5f",
        "colab_type": "code",
        "colab": {}
      },
      "source": [
        "race1 = int(race.loc[race['Hispanic Race'].idxmax()])"
      ],
      "execution_count": 0,
      "outputs": []
    },
    {
      "cell_type": "code",
      "metadata": {
        "id": "lhL0ZbFZI3iV",
        "colab_type": "code",
        "colab": {}
      },
      "source": [
        "race2 = int(race.sum())"
      ],
      "execution_count": 0,
      "outputs": []
    },
    {
      "cell_type": "markdown",
      "metadata": {
        "id": "X5Q8HeA8MMTL",
        "colab_type": "text"
      },
      "source": [
        "Calculating the percentage for LA regarding race"
      ]
    },
    {
      "cell_type": "code",
      "metadata": {
        "id": "wUFmAB1YMQmK",
        "colab_type": "code",
        "outputId": "3b524625-7185-4d99-97ba-340fcd532c39",
        "colab": {
          "base_uri": "https://localhost:8080/",
          "height": 33
        }
      },
      "source": [
        "race1/race2"
      ],
      "execution_count": 0,
      "outputs": [
        {
          "output_type": "execute_result",
          "data": {
            "text/plain": [
              "0.10173042785840994"
            ]
          },
          "metadata": {
            "tags": []
          },
          "execution_count": 168
        }
      ]
    },
    {
      "cell_type": "markdown",
      "metadata": {
        "id": "Vf1sXGC6dXek",
        "colab_type": "text"
      },
      "source": [
        "The city with the highest percentage out of all the parameters is New York "
      ]
    }
  ]
}