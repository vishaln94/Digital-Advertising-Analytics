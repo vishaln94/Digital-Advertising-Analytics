{
  "nbformat": 4,
  "nbformat_minor": 0,
  "metadata": {
    "colab": {
      "name": "Python Exercise 1 - Basic Ad analysis - Vishal.ipynb",
      "provenance": [],
      "include_colab_link": true
    },
    "kernelspec": {
      "name": "python3",
      "display_name": "Python 3"
    }
  },
  "cells": [
    {
      "cell_type": "markdown",
      "metadata": {
        "id": "view-in-github",
        "colab_type": "text"
      },
      "source": [
        "<a href=\"https://colab.research.google.com/github/vishaln94/Digital-Advertising-Analytics/blob/master/Python_Exercise_1_Basic_Ad_analysis_Vishal.ipynb\" target=\"_parent\"><img src=\"https://colab.research.google.com/assets/colab-badge.svg\" alt=\"Open In Colab\"/></a>"
      ]
    },
    {
      "cell_type": "code",
      "metadata": {
        "id": "xftoMKogkV8J",
        "colab_type": "code",
        "outputId": "d66eef48-811f-4d7c-cc9d-399e587a60e4",
        "colab": {
          "base_uri": "https://localhost:8080/",
          "height": 120
        }
      },
      "source": [
        "import pandas as pd\n",
        "import seaborn as sns\n",
        "from google.colab import drive\n",
        "drive.mount('/content/drive')"
      ],
      "execution_count": 1,
      "outputs": [
        {
          "output_type": "stream",
          "text": [
            "Go to this URL in a browser: https://accounts.google.com/o/oauth2/auth?client_id=947318989803-6bn6qk8qdgf4n4g3pfee6491hc0brc4i.apps.googleusercontent.com&redirect_uri=urn%3aietf%3awg%3aoauth%3a2.0%3aoob&response_type=code&scope=email%20https%3a%2f%2fwww.googleapis.com%2fauth%2fdocs.test%20https%3a%2f%2fwww.googleapis.com%2fauth%2fdrive%20https%3a%2f%2fwww.googleapis.com%2fauth%2fdrive.photos.readonly%20https%3a%2f%2fwww.googleapis.com%2fauth%2fpeopleapi.readonly\n",
            "\n",
            "Enter your authorization code:\n",
            "··········\n",
            "Mounted at /content/drive\n"
          ],
          "name": "stdout"
        }
      ]
    },
    {
      "cell_type": "code",
      "metadata": {
        "id": "9ylY55CteSm3",
        "colab_type": "code",
        "colab": {}
      },
      "source": [
        "import seaborn as sns"
      ],
      "execution_count": 0,
      "outputs": []
    },
    {
      "cell_type": "markdown",
      "metadata": {
        "id": "kVQRRkg9Zfqg",
        "colab_type": "text"
      },
      "source": [
        "Question 0: Finding the CPI and the best/worst days of the week"
      ]
    },
    {
      "cell_type": "code",
      "metadata": {
        "id": "brzMCsgzk9CD",
        "colab_type": "code",
        "colab": {}
      },
      "source": [
        "csvfile = 'drive/My Drive/Colab Notebooks/Travel Pony Facebook.csv'\n",
        "df = pd.read_csv(csvfile)"
      ],
      "execution_count": 0,
      "outputs": []
    },
    {
      "cell_type": "code",
      "metadata": {
        "id": "r6j8sVytlQ5y",
        "colab_type": "code",
        "colab": {}
      },
      "source": [
        "CPI = df.loc[:,'Amount Spent (USD)']/df.loc[:,'Impressions']\n",
        "df['CPI'] = CPI"
      ],
      "execution_count": 0,
      "outputs": []
    },
    {
      "cell_type": "markdown",
      "metadata": {
        "id": "fc1S6cqYiCAG",
        "colab_type": "text"
      },
      "source": [
        "2. To find day of the week, I converted start date to a date/time object first, and then used the day_name function to get the day of the week for each date. Created a enw column called \"Day of Week\". \n"
      ]
    },
    {
      "cell_type": "code",
      "metadata": {
        "id": "PDWiMCeFhV2E",
        "colab_type": "code",
        "colab": {}
      },
      "source": [
        "df['Start Date'] = pd.to_datetime(df['Start Date'])"
      ],
      "execution_count": 0,
      "outputs": []
    },
    {
      "cell_type": "code",
      "metadata": {
        "id": "2s8BYBVWl-zT",
        "colab_type": "code",
        "colab": {}
      },
      "source": [
        "df['Day of Week'] = df['Start Date'].dt.day_name()"
      ],
      "execution_count": 0,
      "outputs": []
    },
    {
      "cell_type": "code",
      "metadata": {
        "id": "gOris_zbh3kk",
        "colab_type": "code",
        "outputId": "c7030766-d414-48b9-c346-07e64e490dd9",
        "colab": {
          "base_uri": "https://localhost:8080/",
          "height": 287
        }
      },
      "source": [
        "df.iloc[:,[20,21]].groupby('Day of Week').mean()"
      ],
      "execution_count": 7,
      "outputs": [
        {
          "output_type": "execute_result",
          "data": {
            "text/html": [
              "<div>\n",
              "<style scoped>\n",
              "    .dataframe tbody tr th:only-of-type {\n",
              "        vertical-align: middle;\n",
              "    }\n",
              "\n",
              "    .dataframe tbody tr th {\n",
              "        vertical-align: top;\n",
              "    }\n",
              "\n",
              "    .dataframe thead th {\n",
              "        text-align: right;\n",
              "    }\n",
              "</style>\n",
              "<table border=\"1\" class=\"dataframe\">\n",
              "  <thead>\n",
              "    <tr style=\"text-align: right;\">\n",
              "      <th></th>\n",
              "      <th>CPI</th>\n",
              "    </tr>\n",
              "    <tr>\n",
              "      <th>Day of Week</th>\n",
              "      <th></th>\n",
              "    </tr>\n",
              "  </thead>\n",
              "  <tbody>\n",
              "    <tr>\n",
              "      <th>Friday</th>\n",
              "      <td>0.004097</td>\n",
              "    </tr>\n",
              "    <tr>\n",
              "      <th>Monday</th>\n",
              "      <td>0.002910</td>\n",
              "    </tr>\n",
              "    <tr>\n",
              "      <th>Saturday</th>\n",
              "      <td>0.002629</td>\n",
              "    </tr>\n",
              "    <tr>\n",
              "      <th>Sunday</th>\n",
              "      <td>0.003688</td>\n",
              "    </tr>\n",
              "    <tr>\n",
              "      <th>Thursday</th>\n",
              "      <td>0.003398</td>\n",
              "    </tr>\n",
              "    <tr>\n",
              "      <th>Tuesday</th>\n",
              "      <td>0.003040</td>\n",
              "    </tr>\n",
              "    <tr>\n",
              "      <th>Wednesday</th>\n",
              "      <td>0.002981</td>\n",
              "    </tr>\n",
              "  </tbody>\n",
              "</table>\n",
              "</div>"
            ],
            "text/plain": [
              "                  CPI\n",
              "Day of Week          \n",
              "Friday       0.004097\n",
              "Monday       0.002910\n",
              "Saturday     0.002629\n",
              "Sunday       0.003688\n",
              "Thursday     0.003398\n",
              "Tuesday      0.003040\n",
              "Wednesday    0.002981"
            ]
          },
          "metadata": {
            "tags": []
          },
          "execution_count": 7
        }
      ]
    },
    {
      "cell_type": "markdown",
      "metadata": {
        "id": "kD-QnSNXlYAR",
        "colab_type": "text"
      },
      "source": [
        "Based on aggreation in the table above, the cheapest day would be on a Saturday, with the mean cost per impression being the lowest. Friday seems to be the most expensive day, with a CPI of around 0.004. \n",
        "\n"
      ]
    },
    {
      "cell_type": "markdown",
      "metadata": {
        "id": "tAA4ewMsZTu6",
        "colab_type": "text"
      },
      "source": [
        "Question 1 - computing the correlation between amount spent and other variables"
      ]
    },
    {
      "cell_type": "code",
      "metadata": {
        "id": "_OPyglWLnaGI",
        "colab_type": "code",
        "colab": {}
      },
      "source": [
        "df2 = df.iloc[:,[9,4,5,8,10]]"
      ],
      "execution_count": 0,
      "outputs": []
    },
    {
      "cell_type": "code",
      "metadata": {
        "id": "iSEVAVJao97T",
        "colab_type": "code",
        "outputId": "78e211ff-bbdd-4c23-eed3-0f4aed7966e0",
        "colab": {
          "base_uri": "https://localhost:8080/",
          "height": 197
        }
      },
      "source": [
        "corr = df2.corr()\n",
        "corr"
      ],
      "execution_count": 9,
      "outputs": [
        {
          "output_type": "execute_result",
          "data": {
            "text/html": [
              "<div>\n",
              "<style scoped>\n",
              "    .dataframe tbody tr th:only-of-type {\n",
              "        vertical-align: middle;\n",
              "    }\n",
              "\n",
              "    .dataframe tbody tr th {\n",
              "        vertical-align: top;\n",
              "    }\n",
              "\n",
              "    .dataframe thead th {\n",
              "        text-align: right;\n",
              "    }\n",
              "</style>\n",
              "<table border=\"1\" class=\"dataframe\">\n",
              "  <thead>\n",
              "    <tr style=\"text-align: right;\">\n",
              "      <th></th>\n",
              "      <th>Amount Spent (USD)</th>\n",
              "      <th>Reach</th>\n",
              "      <th>Frequency</th>\n",
              "      <th>Unique Clicks</th>\n",
              "      <th>Page Likes</th>\n",
              "    </tr>\n",
              "  </thead>\n",
              "  <tbody>\n",
              "    <tr>\n",
              "      <th>Amount Spent (USD)</th>\n",
              "      <td>1.000000</td>\n",
              "      <td>0.703124</td>\n",
              "      <td>0.130201</td>\n",
              "      <td>0.882993</td>\n",
              "      <td>0.757612</td>\n",
              "    </tr>\n",
              "    <tr>\n",
              "      <th>Reach</th>\n",
              "      <td>0.703124</td>\n",
              "      <td>1.000000</td>\n",
              "      <td>0.334101</td>\n",
              "      <td>0.722249</td>\n",
              "      <td>0.304388</td>\n",
              "    </tr>\n",
              "    <tr>\n",
              "      <th>Frequency</th>\n",
              "      <td>0.130201</td>\n",
              "      <td>0.334101</td>\n",
              "      <td>1.000000</td>\n",
              "      <td>0.135103</td>\n",
              "      <td>0.000182</td>\n",
              "    </tr>\n",
              "    <tr>\n",
              "      <th>Unique Clicks</th>\n",
              "      <td>0.882993</td>\n",
              "      <td>0.722249</td>\n",
              "      <td>0.135103</td>\n",
              "      <td>1.000000</td>\n",
              "      <td>0.584614</td>\n",
              "    </tr>\n",
              "    <tr>\n",
              "      <th>Page Likes</th>\n",
              "      <td>0.757612</td>\n",
              "      <td>0.304388</td>\n",
              "      <td>0.000182</td>\n",
              "      <td>0.584614</td>\n",
              "      <td>1.000000</td>\n",
              "    </tr>\n",
              "  </tbody>\n",
              "</table>\n",
              "</div>"
            ],
            "text/plain": [
              "                    Amount Spent (USD)     Reach  ...  Unique Clicks  Page Likes\n",
              "Amount Spent (USD)            1.000000  0.703124  ...       0.882993    0.757612\n",
              "Reach                         0.703124  1.000000  ...       0.722249    0.304388\n",
              "Frequency                     0.130201  0.334101  ...       0.135103    0.000182\n",
              "Unique Clicks                 0.882993  0.722249  ...       1.000000    0.584614\n",
              "Page Likes                    0.757612  0.304388  ...       0.584614    1.000000\n",
              "\n",
              "[5 rows x 5 columns]"
            ]
          },
          "metadata": {
            "tags": []
          },
          "execution_count": 9
        }
      ]
    },
    {
      "cell_type": "code",
      "metadata": {
        "id": "vTnhlyz7pf9r",
        "colab_type": "code",
        "outputId": "8a210e41-c1a5-42f0-d1f3-653c34cd7ca9",
        "colab": {
          "base_uri": "https://localhost:8080/",
          "height": 336
        }
      },
      "source": [
        "ax = sns.heatmap(\n",
        "    corr, \n",
        "    vmin=-1, vmax=1, center=0,\n",
        "    cmap=sns.diverging_palette(20, 220, n=200),\n",
        "    square=True\n",
        ")\n",
        "ax.set_xticklabels(\n",
        "    ax.get_xticklabels(),\n",
        "    rotation=45,\n",
        "    horizontalalignment='right'\n",
        ");"
      ],
      "execution_count": 10,
      "outputs": [
        {
          "output_type": "display_data",
          "data": {
            "image/png": "[encoded data removed]",
            "text/plain": [
              "<Figure size 432x288 with 2 Axes>"
            ]
          },
          "metadata": {
            "tags": []
          }
        }
      ]
    },
    {
      "cell_type": "markdown",
      "metadata": {
        "id": "oLkcFTrfZp5C",
        "colab_type": "text"
      },
      "source": [
        "Question 2: Simple multiple regression analysis"
      ]
    },
    {
      "cell_type": "code",
      "metadata": {
        "id": "pE13f4DAskwU",
        "colab_type": "code",
        "colab": {}
      },
      "source": [
        "import statsmodels.api as sm"
      ],
      "execution_count": 0,
      "outputs": []
    },
    {
      "cell_type": "code",
      "metadata": {
        "id": "YXlZS_nctSEH",
        "colab_type": "code",
        "colab": {}
      },
      "source": [
        "x = df2.iloc[:,[1,2]]\n",
        "y = df2['Unique Clicks']"
      ],
      "execution_count": 0,
      "outputs": []
    },
    {
      "cell_type": "code",
      "metadata": {
        "id": "gRKhydFPveAc",
        "colab_type": "code",
        "outputId": "4115e15a-8b4a-4f01-b77b-bbef9d46810f",
        "colab": {
          "base_uri": "https://localhost:8080/",
          "height": 458
        }
      },
      "source": [
        "model = sm.OLS(y, x).fit()\n",
        "predictions = model.predict(x)\n",
        "model.summary()"
      ],
      "execution_count": 15,
      "outputs": [
        {
          "output_type": "execute_result",
          "data": {
            "text/html": [
              "<table class=\"simpletable\">\n",
              "<caption>OLS Regression Results</caption>\n",
              "<tr>\n",
              "  <th>Dep. Variable:</th>      <td>Unique Clicks</td>  <th>  R-squared (uncentered):</th>      <td>   0.557</td> \n",
              "</tr>\n",
              "<tr>\n",
              "  <th>Model:</th>                   <td>OLS</td>       <th>  Adj. R-squared (uncentered):</th> <td>   0.556</td> \n",
              "</tr>\n",
              "<tr>\n",
              "  <th>Method:</th>             <td>Least Squares</td>  <th>  F-statistic:       </th>          <td>   2325.</td> \n",
              "</tr>\n",
              "<tr>\n",
              "  <th>Date:</th>             <td>Thu, 12 Dec 2019</td> <th>  Prob (F-statistic):</th>           <td>  0.00</td>  \n",
              "</tr>\n",
              "<tr>\n",
              "  <th>Time:</th>                 <td>02:19:50</td>     <th>  Log-Likelihood:    </th>          <td> -15973.</td> \n",
              "</tr>\n",
              "<tr>\n",
              "  <th>No. Observations:</th>      <td>  3705</td>      <th>  AIC:               </th>          <td>3.195e+04</td>\n",
              "</tr>\n",
              "<tr>\n",
              "  <th>Df Residuals:</th>          <td>  3703</td>      <th>  BIC:               </th>          <td>3.196e+04</td>\n",
              "</tr>\n",
              "<tr>\n",
              "  <th>Df Model:</th>              <td>     2</td>      <th>                     </th>              <td> </td>    \n",
              "</tr>\n",
              "<tr>\n",
              "  <th>Covariance Type:</th>      <td>nonrobust</td>    <th>                     </th>              <td> </td>    \n",
              "</tr>\n",
              "</table>\n",
              "<table class=\"simpletable\">\n",
              "<tr>\n",
              "      <td></td>         <th>coef</th>     <th>std err</th>      <th>t</th>      <th>P>|t|</th>  <th>[0.025</th>    <th>0.975]</th>  \n",
              "</tr>\n",
              "<tr>\n",
              "  <th>Reach</th>     <td>    0.0019</td> <td> 3.12e-05</td> <td>   62.490</td> <td> 0.000</td> <td>    0.002</td> <td>    0.002</td>\n",
              "</tr>\n",
              "<tr>\n",
              "  <th>Frequency</th> <td>    3.6139</td> <td>    0.298</td> <td>   12.109</td> <td> 0.000</td> <td>    3.029</td> <td>    4.199</td>\n",
              "</tr>\n",
              "</table>\n",
              "<table class=\"simpletable\">\n",
              "<tr>\n",
              "  <th>Omnibus:</th>       <td>5107.616</td> <th>  Durbin-Watson:     </th>  <td>   0.803</td>  \n",
              "</tr>\n",
              "<tr>\n",
              "  <th>Prob(Omnibus):</th>  <td> 0.000</td>  <th>  Jarque-Bera (JB):  </th> <td>5128392.747</td>\n",
              "</tr>\n",
              "<tr>\n",
              "  <th>Skew:</th>           <td> 7.331</td>  <th>  Prob(JB):          </th>  <td>    0.00</td>  \n",
              "</tr>\n",
              "<tr>\n",
              "  <th>Kurtosis:</th>       <td>184.674</td> <th>  Cond. No.          </th>  <td>9.84e+03</td>  \n",
              "</tr>\n",
              "</table><br/><br/>Warnings:<br/>[1] Standard Errors assume that the covariance matrix of the errors is correctly specified.<br/>[2] The condition number is large, 9.84e+03. This might indicate that there are<br/>strong multicollinearity or other numerical problems."
            ],
            "text/plain": [
              "<class 'statsmodels.iolib.summary.Summary'>\n",
              "\"\"\"\n",
              "                                 OLS Regression Results                                \n",
              "=======================================================================================\n",
              "Dep. Variable:          Unique Clicks   R-squared (uncentered):                   0.557\n",
              "Model:                            OLS   Adj. R-squared (uncentered):              0.556\n",
              "Method:                 Least Squares   F-statistic:                              2325.\n",
              "Date:                Thu, 12 Dec 2019   Prob (F-statistic):                        0.00\n",
              "Time:                        02:19:50   Log-Likelihood:                         -15973.\n",
              "No. Observations:                3705   AIC:                                  3.195e+04\n",
              "Df Residuals:                    3703   BIC:                                  3.196e+04\n",
              "Df Model:                           2                                                  \n",
              "Covariance Type:            nonrobust                                                  \n",
              "==============================================================================\n",
              "                 coef    std err          t      P>|t|      [0.025      0.975]\n",
              "------------------------------------------------------------------------------\n",
              "Reach          0.0019   3.12e-05     62.490      0.000       0.002       0.002\n",
              "Frequency      3.6139      0.298     12.109      0.000       3.029       4.199\n",
              "==============================================================================\n",
              "Omnibus:                     5107.616   Durbin-Watson:                   0.803\n",
              "Prob(Omnibus):                  0.000   Jarque-Bera (JB):          5128392.747\n",
              "Skew:                           7.331   Prob(JB):                         0.00\n",
              "Kurtosis:                     184.674   Cond. No.                     9.84e+03\n",
              "==============================================================================\n",
              "\n",
              "Warnings:\n",
              "[1] Standard Errors assume that the covariance matrix of the errors is correctly specified.\n",
              "[2] The condition number is large, 9.84e+03. This might indicate that there are\n",
              "strong multicollinearity or other numerical problems.\n",
              "\"\"\""
            ]
          },
          "metadata": {
            "tags": []
          },
          "execution_count": 15
        }
      ]
    }
  ]
}