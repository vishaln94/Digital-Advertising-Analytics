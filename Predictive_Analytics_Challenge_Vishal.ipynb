{
  "nbformat": 4,
  "nbformat_minor": 0,
  "metadata": {
    "colab": {
      "name": "Predictive Analytics Challenge - Vishal.ipynb",
      "provenance": [],
      "collapsed_sections": [],
      "include_colab_link": true
    },
    "kernelspec": {
      "name": "python3",
      "display_name": "Python 3"
    }
  },
  "cells": [
    {
      "cell_type": "markdown",
      "metadata": {
        "id": "view-in-github",
        "colab_type": "text"
      },
      "source": [
        "<a href=\"https://colab.research.google.com/github/vishaln94/Digital-Advertising-Analytics/blob/master/Predictive_Analytics_Challenge_Vishal.ipynb\" target=\"_parent\"><img src=\"https://colab.research.google.com/assets/colab-badge.svg\" alt=\"Open In Colab\"/></a>"
      ]
    },
    {
      "cell_type": "markdown",
      "metadata": {
        "id": "gGqx_3ZCxJZC",
        "colab_type": "text"
      },
      "source": [
        "## **Predictive Analytics Challange - Russian Facebook Ads**"
      ]
    },
    {
      "cell_type": "code",
      "metadata": {
        "id": "ofsMzZ1k4GFG",
        "colab_type": "code",
        "outputId": "368c7188-8800-496c-a95e-5d02782fad8d",
        "colab": {
          "base_uri": "https://localhost:8080/",
          "height": 33
        }
      },
      "source": [
        "from google.colab import drive\n",
        "drive.mount('/content/drive')"
      ],
      "execution_count": 0,
      "outputs": [
        {
          "output_type": "stream",
          "text": [
            "Drive already mounted at /content/drive; to attempt to forcibly remount, call drive.mount(\"/content/drive\", force_remount=True).\n"
          ],
          "name": "stdout"
        }
      ]
    },
    {
      "cell_type": "code",
      "metadata": {
        "id": "KZg6LH6m5PuP",
        "colab_type": "code",
        "colab": {}
      },
      "source": [
        "import pandas as pd\n",
        "import seaborn as sns\n",
        "import numpy as np\n",
        "from sklearn.model_selection import train_test_split\n",
        "from sklearn.linear_model import LassoLarsCV"
      ],
      "execution_count": 0,
      "outputs": []
    },
    {
      "cell_type": "code",
      "metadata": {
        "id": "MmZtBgBZ48lm",
        "colab_type": "code",
        "colab": {}
      },
      "source": [
        "csvfile = 'drive/My Drive/Colab Notebooks/rusdata_utf8.csv'\n",
        "df = pd.read_csv(csvfile, encoding='latin1')"
      ],
      "execution_count": 0,
      "outputs": []
    },
    {
      "cell_type": "markdown",
      "metadata": {
        "id": "G9jFjKPRLHWU",
        "colab_type": "text"
      },
      "source": [
        "# Data Exploration and Preliminary Analysis on Features"
      ]
    },
    {
      "cell_type": "markdown",
      "metadata": {
        "id": "YdijLGo8Qoht",
        "colab_type": "text"
      },
      "source": [
        "Let's first start by building a correlation plot among our continuous variables, to determine if there is a variable that has a strong relation with clicks. We can get rid of the variables that we don't want to use. "
      ]
    },
    {
      "cell_type": "code",
      "metadata": {
        "id": "mk5s9UqsLMmS",
        "colab_type": "code",
        "colab": {}
      },
      "source": [
        "df2 = df.iloc[:,6:32]\n",
        "del df2['medium_bin']\n",
        "del df2['text']\n",
        "del df2['landpage']\n",
        "del df2['impress']\n",
        "del df2['ctr']\n",
        "del df2['enddate']\n",
        "del df2['campaignlength_old_dontuse']"
      ],
      "execution_count": 0,
      "outputs": []
    },
    {
      "cell_type": "code",
      "metadata": {
        "id": "QnL7ZI_xLQMb",
        "colab_type": "code",
        "outputId": "876ea6d4-0378-4725-e9e7-1e26f4d1ca99",
        "colab": {
          "base_uri": "https://localhost:8080/",
          "height": 378
        }
      },
      "source": [
        "corrplot = df2.corr()\n",
        "corrplot.style.background_gradient(cmap='coolwarm').set_precision(2)"
      ],
      "execution_count": 0,
      "outputs": [
        {
          "output_type": "execute_result",
          "data": {
            "text/html": [
              "<style  type=\"text/css\" >\n",
              "    #T_900d5176_2084_11ea_8691_0242ac1c0002row0_col0 {\n",
              "            background-color:  #b40426;\n",
              "            color:  #f1f1f1;\n",
              "        }    #T_900d5176_2084_11ea_8691_0242ac1c0002row0_col1 {\n",
              "            background-color:  #f7b396;\n",
              "            color:  #000000;\n",
              "        }    #T_900d5176_2084_11ea_8691_0242ac1c0002row0_col2 {\n",
              "            background-color:  #4b64d5;\n",
              "            color:  #f1f1f1;\n",
              "        }    #T_900d5176_2084_11ea_8691_0242ac1c0002row0_col3 {\n",
              "            background-color:  #4e68d8;\n",
              "            color:  #000000;\n",
              "        }    #T_900d5176_2084_11ea_8691_0242ac1c0002row0_col4 {\n",
              "            background-color:  #4c66d6;\n",
              "            color:  #000000;\n",
              "        }    #T_900d5176_2084_11ea_8691_0242ac1c0002row0_col5 {\n",
              "            background-color:  #485fd1;\n",
              "            color:  #f1f1f1;\n",
              "        }    #T_900d5176_2084_11ea_8691_0242ac1c0002row0_col6 {\n",
              "            background-color:  #506bda;\n",
              "            color:  #000000;\n",
              "        }    #T_900d5176_2084_11ea_8691_0242ac1c0002row0_col7 {\n",
              "            background-color:  #5470de;\n",
              "            color:  #000000;\n",
              "        }    #T_900d5176_2084_11ea_8691_0242ac1c0002row0_col8 {\n",
              "            background-color:  #5d7ce6;\n",
              "            color:  #000000;\n",
              "        }    #T_900d5176_2084_11ea_8691_0242ac1c0002row0_col9 {\n",
              "            background-color:  #5d7ce6;\n",
              "            color:  #000000;\n",
              "        }    #T_900d5176_2084_11ea_8691_0242ac1c0002row0_col10 {\n",
              "            background-color:  #4f69d9;\n",
              "            color:  #000000;\n",
              "        }    #T_900d5176_2084_11ea_8691_0242ac1c0002row0_col11 {\n",
              "            background-color:  #6a8bef;\n",
              "            color:  #000000;\n",
              "        }    #T_900d5176_2084_11ea_8691_0242ac1c0002row0_col12 {\n",
              "            background-color:  #80a3fa;\n",
              "            color:  #000000;\n",
              "        }    #T_900d5176_2084_11ea_8691_0242ac1c0002row0_col13 {\n",
              "            background-color:  #5572df;\n",
              "            color:  #000000;\n",
              "        }    #T_900d5176_2084_11ea_8691_0242ac1c0002row0_col14 {\n",
              "            background-color:  #536edd;\n",
              "            color:  #000000;\n",
              "        }    #T_900d5176_2084_11ea_8691_0242ac1c0002row0_col15 {\n",
              "            background-color:  #506bda;\n",
              "            color:  #000000;\n",
              "        }    #T_900d5176_2084_11ea_8691_0242ac1c0002row0_col16 {\n",
              "            background-color:  #8fb1fe;\n",
              "            color:  #000000;\n",
              "        }    #T_900d5176_2084_11ea_8691_0242ac1c0002row1_col0 {\n",
              "            background-color:  #f7b396;\n",
              "            color:  #000000;\n",
              "        }    #T_900d5176_2084_11ea_8691_0242ac1c0002row1_col1 {\n",
              "            background-color:  #b40426;\n",
              "            color:  #f1f1f1;\n",
              "        }    #T_900d5176_2084_11ea_8691_0242ac1c0002row1_col2 {\n",
              "            background-color:  #a7c5fe;\n",
              "            color:  #000000;\n",
              "        }    #T_900d5176_2084_11ea_8691_0242ac1c0002row1_col3 {\n",
              "            background-color:  #5977e3;\n",
              "            color:  #000000;\n",
              "        }    #T_900d5176_2084_11ea_8691_0242ac1c0002row1_col4 {\n",
              "            background-color:  #536edd;\n",
              "            color:  #000000;\n",
              "        }    #T_900d5176_2084_11ea_8691_0242ac1c0002row1_col5 {\n",
              "            background-color:  #5a78e4;\n",
              "            color:  #000000;\n",
              "        }    #T_900d5176_2084_11ea_8691_0242ac1c0002row1_col6 {\n",
              "            background-color:  #5977e3;\n",
              "            color:  #000000;\n",
              "        }    #T_900d5176_2084_11ea_8691_0242ac1c0002row1_col7 {\n",
              "            background-color:  #5977e3;\n",
              "            color:  #000000;\n",
              "        }    #T_900d5176_2084_11ea_8691_0242ac1c0002row1_col8 {\n",
              "            background-color:  #6384eb;\n",
              "            color:  #000000;\n",
              "        }    #T_900d5176_2084_11ea_8691_0242ac1c0002row1_col9 {\n",
              "            background-color:  #5875e1;\n",
              "            color:  #000000;\n",
              "        }    #T_900d5176_2084_11ea_8691_0242ac1c0002row1_col10 {\n",
              "            background-color:  #445acc;\n",
              "            color:  #f1f1f1;\n",
              "        }    #T_900d5176_2084_11ea_8691_0242ac1c0002row1_col11 {\n",
              "            background-color:  #5875e1;\n",
              "            color:  #000000;\n",
              "        }    #T_900d5176_2084_11ea_8691_0242ac1c0002row1_col12 {\n",
              "            background-color:  #779af7;\n",
              "            color:  #000000;\n",
              "        }    #T_900d5176_2084_11ea_8691_0242ac1c0002row1_col13 {\n",
              "            background-color:  #6687ed;\n",
              "            color:  #000000;\n",
              "        }    #T_900d5176_2084_11ea_8691_0242ac1c0002row1_col14 {\n",
              "            background-color:  #5f7fe8;\n",
              "            color:  #000000;\n",
              "        }    #T_900d5176_2084_11ea_8691_0242ac1c0002row1_col15 {\n",
              "            background-color:  #445acc;\n",
              "            color:  #f1f1f1;\n",
              "        }    #T_900d5176_2084_11ea_8691_0242ac1c0002row1_col16 {\n",
              "            background-color:  #6c8ff1;\n",
              "            color:  #000000;\n",
              "        }    #T_900d5176_2084_11ea_8691_0242ac1c0002row2_col0 {\n",
              "            background-color:  #516ddb;\n",
              "            color:  #000000;\n",
              "        }    #T_900d5176_2084_11ea_8691_0242ac1c0002row2_col1 {\n",
              "            background-color:  #abc8fd;\n",
              "            color:  #000000;\n",
              "        }    #T_900d5176_2084_11ea_8691_0242ac1c0002row2_col2 {\n",
              "            background-color:  #b40426;\n",
              "            color:  #f1f1f1;\n",
              "        }    #T_900d5176_2084_11ea_8691_0242ac1c0002row2_col3 {\n",
              "            background-color:  #5d7ce6;\n",
              "            color:  #000000;\n",
              "        }    #T_900d5176_2084_11ea_8691_0242ac1c0002row2_col4 {\n",
              "            background-color:  #5572df;\n",
              "            color:  #000000;\n",
              "        }    #T_900d5176_2084_11ea_8691_0242ac1c0002row2_col5 {\n",
              "            background-color:  #6180e9;\n",
              "            color:  #000000;\n",
              "        }    #T_900d5176_2084_11ea_8691_0242ac1c0002row2_col6 {\n",
              "            background-color:  #5e7de7;\n",
              "            color:  #000000;\n",
              "        }    #T_900d5176_2084_11ea_8691_0242ac1c0002row2_col7 {\n",
              "            background-color:  #5e7de7;\n",
              "            color:  #000000;\n",
              "        }    #T_900d5176_2084_11ea_8691_0242ac1c0002row2_col8 {\n",
              "            background-color:  #7093f3;\n",
              "            color:  #000000;\n",
              "        }    #T_900d5176_2084_11ea_8691_0242ac1c0002row2_col9 {\n",
              "            background-color:  #5977e3;\n",
              "            color:  #000000;\n",
              "        }    #T_900d5176_2084_11ea_8691_0242ac1c0002row2_col10 {\n",
              "            background-color:  #4961d2;\n",
              "            color:  #f1f1f1;\n",
              "        }    #T_900d5176_2084_11ea_8691_0242ac1c0002row2_col11 {\n",
              "            background-color:  #516ddb;\n",
              "            color:  #000000;\n",
              "        }    #T_900d5176_2084_11ea_8691_0242ac1c0002row2_col12 {\n",
              "            background-color:  #6687ed;\n",
              "            color:  #000000;\n",
              "        }    #T_900d5176_2084_11ea_8691_0242ac1c0002row2_col13 {\n",
              "            background-color:  #6788ee;\n",
              "            color:  #000000;\n",
              "        }    #T_900d5176_2084_11ea_8691_0242ac1c0002row2_col14 {\n",
              "            background-color:  #6384eb;\n",
              "            color:  #000000;\n",
              "        }    #T_900d5176_2084_11ea_8691_0242ac1c0002row2_col15 {\n",
              "            background-color:  #4f69d9;\n",
              "            color:  #000000;\n",
              "        }    #T_900d5176_2084_11ea_8691_0242ac1c0002row2_col16 {\n",
              "            background-color:  #7295f4;\n",
              "            color:  #000000;\n",
              "        }    #T_900d5176_2084_11ea_8691_0242ac1c0002row3_col0 {\n",
              "            background-color:  #3d50c3;\n",
              "            color:  #f1f1f1;\n",
              "        }    #T_900d5176_2084_11ea_8691_0242ac1c0002row3_col1 {\n",
              "            background-color:  #485fd1;\n",
              "            color:  #f1f1f1;\n",
              "        }    #T_900d5176_2084_11ea_8691_0242ac1c0002row3_col2 {\n",
              "            background-color:  #465ecf;\n",
              "            color:  #f1f1f1;\n",
              "        }    #T_900d5176_2084_11ea_8691_0242ac1c0002row3_col3 {\n",
              "            background-color:  #b40426;\n",
              "            color:  #f1f1f1;\n",
              "        }    #T_900d5176_2084_11ea_8691_0242ac1c0002row3_col4 {\n",
              "            background-color:  #c73635;\n",
              "            color:  #f1f1f1;\n",
              "        }    #T_900d5176_2084_11ea_8691_0242ac1c0002row3_col5 {\n",
              "            background-color:  #d95847;\n",
              "            color:  #000000;\n",
              "        }    #T_900d5176_2084_11ea_8691_0242ac1c0002row3_col6 {\n",
              "            background-color:  #c43032;\n",
              "            color:  #f1f1f1;\n",
              "        }    #T_900d5176_2084_11ea_8691_0242ac1c0002row3_col7 {\n",
              "            background-color:  #d24b40;\n",
              "            color:  #f1f1f1;\n",
              "        }    #T_900d5176_2084_11ea_8691_0242ac1c0002row3_col8 {\n",
              "            background-color:  #f7bca1;\n",
              "            color:  #000000;\n",
              "        }    #T_900d5176_2084_11ea_8691_0242ac1c0002row3_col9 {\n",
              "            background-color:  #eed0c0;\n",
              "            color:  #000000;\n",
              "        }    #T_900d5176_2084_11ea_8691_0242ac1c0002row3_col10 {\n",
              "            background-color:  #b7cff9;\n",
              "            color:  #000000;\n",
              "        }    #T_900d5176_2084_11ea_8691_0242ac1c0002row3_col11 {\n",
              "            background-color:  #6485ec;\n",
              "            color:  #000000;\n",
              "        }    #T_900d5176_2084_11ea_8691_0242ac1c0002row3_col12 {\n",
              "            background-color:  #7093f3;\n",
              "            color:  #000000;\n",
              "        }    #T_900d5176_2084_11ea_8691_0242ac1c0002row3_col13 {\n",
              "            background-color:  #7396f5;\n",
              "            color:  #000000;\n",
              "        }    #T_900d5176_2084_11ea_8691_0242ac1c0002row3_col14 {\n",
              "            background-color:  #f7b093;\n",
              "            color:  #000000;\n",
              "        }    #T_900d5176_2084_11ea_8691_0242ac1c0002row3_col15 {\n",
              "            background-color:  #aac7fd;\n",
              "            color:  #000000;\n",
              "        }    #T_900d5176_2084_11ea_8691_0242ac1c0002row3_col16 {\n",
              "            background-color:  #485fd1;\n",
              "            color:  #f1f1f1;\n",
              "        }    #T_900d5176_2084_11ea_8691_0242ac1c0002row4_col0 {\n",
              "            background-color:  #4257c9;\n",
              "            color:  #f1f1f1;\n",
              "        }    #T_900d5176_2084_11ea_8691_0242ac1c0002row4_col1 {\n",
              "            background-color:  #485fd1;\n",
              "            color:  #f1f1f1;\n",
              "        }    #T_900d5176_2084_11ea_8691_0242ac1c0002row4_col2 {\n",
              "            background-color:  #445acc;\n",
              "            color:  #f1f1f1;\n",
              "        }    #T_900d5176_2084_11ea_8691_0242ac1c0002row4_col3 {\n",
              "            background-color:  #c73635;\n",
              "            color:  #f1f1f1;\n",
              "        }    #T_900d5176_2084_11ea_8691_0242ac1c0002row4_col4 {\n",
              "            background-color:  #b40426;\n",
              "            color:  #f1f1f1;\n",
              "        }    #T_900d5176_2084_11ea_8691_0242ac1c0002row4_col5 {\n",
              "            background-color:  #e36b54;\n",
              "            color:  #000000;\n",
              "        }    #T_900d5176_2084_11ea_8691_0242ac1c0002row4_col6 {\n",
              "            background-color:  #ca3b37;\n",
              "            color:  #f1f1f1;\n",
              "        }    #T_900d5176_2084_11ea_8691_0242ac1c0002row4_col7 {\n",
              "            background-color:  #cc403a;\n",
              "            color:  #f1f1f1;\n",
              "        }    #T_900d5176_2084_11ea_8691_0242ac1c0002row4_col8 {\n",
              "            background-color:  #f7b396;\n",
              "            color:  #000000;\n",
              "        }    #T_900d5176_2084_11ea_8691_0242ac1c0002row4_col9 {\n",
              "            background-color:  #f5c0a7;\n",
              "            color:  #000000;\n",
              "        }    #T_900d5176_2084_11ea_8691_0242ac1c0002row4_col10 {\n",
              "            background-color:  #ccd9ed;\n",
              "            color:  #000000;\n",
              "        }    #T_900d5176_2084_11ea_8691_0242ac1c0002row4_col11 {\n",
              "            background-color:  #5f7fe8;\n",
              "            color:  #000000;\n",
              "        }    #T_900d5176_2084_11ea_8691_0242ac1c0002row4_col12 {\n",
              "            background-color:  #6485ec;\n",
              "            color:  #000000;\n",
              "        }    #T_900d5176_2084_11ea_8691_0242ac1c0002row4_col13 {\n",
              "            background-color:  #84a7fc;\n",
              "            color:  #000000;\n",
              "        }    #T_900d5176_2084_11ea_8691_0242ac1c0002row4_col14 {\n",
              "            background-color:  #f4c6af;\n",
              "            color:  #000000;\n",
              "        }    #T_900d5176_2084_11ea_8691_0242ac1c0002row4_col15 {\n",
              "            background-color:  #b7cff9;\n",
              "            color:  #000000;\n",
              "        }    #T_900d5176_2084_11ea_8691_0242ac1c0002row4_col16 {\n",
              "            background-color:  #4e68d8;\n",
              "            color:  #000000;\n",
              "        }    #T_900d5176_2084_11ea_8691_0242ac1c0002row5_col0 {\n",
              "            background-color:  #3b4cc0;\n",
              "            color:  #f1f1f1;\n",
              "        }    #T_900d5176_2084_11ea_8691_0242ac1c0002row5_col1 {\n",
              "            background-color:  #4c66d6;\n",
              "            color:  #000000;\n",
              "        }    #T_900d5176_2084_11ea_8691_0242ac1c0002row5_col2 {\n",
              "            background-color:  #4e68d8;\n",
              "            color:  #000000;\n",
              "        }    #T_900d5176_2084_11ea_8691_0242ac1c0002row5_col3 {\n",
              "            background-color:  #d85646;\n",
              "            color:  #000000;\n",
              "        }    #T_900d5176_2084_11ea_8691_0242ac1c0002row5_col4 {\n",
              "            background-color:  #e36c55;\n",
              "            color:  #000000;\n",
              "        }    #T_900d5176_2084_11ea_8691_0242ac1c0002row5_col5 {\n",
              "            background-color:  #b40426;\n",
              "            color:  #f1f1f1;\n",
              "        }    #T_900d5176_2084_11ea_8691_0242ac1c0002row5_col6 {\n",
              "            background-color:  #d95847;\n",
              "            color:  #000000;\n",
              "        }    #T_900d5176_2084_11ea_8691_0242ac1c0002row5_col7 {\n",
              "            background-color:  #ef886b;\n",
              "            color:  #000000;\n",
              "        }    #T_900d5176_2084_11ea_8691_0242ac1c0002row5_col8 {\n",
              "            background-color:  #ecd3c5;\n",
              "            color:  #000000;\n",
              "        }    #T_900d5176_2084_11ea_8691_0242ac1c0002row5_col9 {\n",
              "            background-color:  #d7dce3;\n",
              "            color:  #000000;\n",
              "        }    #T_900d5176_2084_11ea_8691_0242ac1c0002row5_col10 {\n",
              "            background-color:  #aac7fd;\n",
              "            color:  #000000;\n",
              "        }    #T_900d5176_2084_11ea_8691_0242ac1c0002row5_col11 {\n",
              "            background-color:  #4e68d8;\n",
              "            color:  #000000;\n",
              "        }    #T_900d5176_2084_11ea_8691_0242ac1c0002row5_col12 {\n",
              "            background-color:  #516ddb;\n",
              "            color:  #000000;\n",
              "        }    #T_900d5176_2084_11ea_8691_0242ac1c0002row5_col13 {\n",
              "            background-color:  #7093f3;\n",
              "            color:  #000000;\n",
              "        }    #T_900d5176_2084_11ea_8691_0242ac1c0002row5_col14 {\n",
              "            background-color:  #f7a688;\n",
              "            color:  #000000;\n",
              "        }    #T_900d5176_2084_11ea_8691_0242ac1c0002row5_col15 {\n",
              "            background-color:  #7ea1fa;\n",
              "            color:  #000000;\n",
              "        }    #T_900d5176_2084_11ea_8691_0242ac1c0002row5_col16 {\n",
              "            background-color:  #4b64d5;\n",
              "            color:  #f1f1f1;\n",
              "        }    #T_900d5176_2084_11ea_8691_0242ac1c0002row6_col0 {\n",
              "            background-color:  #3b4cc0;\n",
              "            color:  #f1f1f1;\n",
              "        }    #T_900d5176_2084_11ea_8691_0242ac1c0002row6_col1 {\n",
              "            background-color:  #4358cb;\n",
              "            color:  #f1f1f1;\n",
              "        }    #T_900d5176_2084_11ea_8691_0242ac1c0002row6_col2 {\n",
              "            background-color:  #4358cb;\n",
              "            color:  #f1f1f1;\n",
              "        }    #T_900d5176_2084_11ea_8691_0242ac1c0002row6_col3 {\n",
              "            background-color:  #c53334;\n",
              "            color:  #f1f1f1;\n",
              "        }    #T_900d5176_2084_11ea_8691_0242ac1c0002row6_col4 {\n",
              "            background-color:  #cb3e38;\n",
              "            color:  #f1f1f1;\n",
              "        }    #T_900d5176_2084_11ea_8691_0242ac1c0002row6_col5 {\n",
              "            background-color:  #da5a49;\n",
              "            color:  #000000;\n",
              "        }    #T_900d5176_2084_11ea_8691_0242ac1c0002row6_col6 {\n",
              "            background-color:  #b40426;\n",
              "            color:  #f1f1f1;\n",
              "        }    #T_900d5176_2084_11ea_8691_0242ac1c0002row6_col7 {\n",
              "            background-color:  #c73635;\n",
              "            color:  #f1f1f1;\n",
              "        }    #T_900d5176_2084_11ea_8691_0242ac1c0002row6_col8 {\n",
              "            background-color:  #f5c1a9;\n",
              "            color:  #000000;\n",
              "        }    #T_900d5176_2084_11ea_8691_0242ac1c0002row6_col9 {\n",
              "            background-color:  #f3c8b2;\n",
              "            color:  #000000;\n",
              "        }    #T_900d5176_2084_11ea_8691_0242ac1c0002row6_col10 {\n",
              "            background-color:  #c7d7f0;\n",
              "            color:  #000000;\n",
              "        }    #T_900d5176_2084_11ea_8691_0242ac1c0002row6_col11 {\n",
              "            background-color:  #6485ec;\n",
              "            color:  #000000;\n",
              "        }    #T_900d5176_2084_11ea_8691_0242ac1c0002row6_col12 {\n",
              "            background-color:  #6282ea;\n",
              "            color:  #000000;\n",
              "        }    #T_900d5176_2084_11ea_8691_0242ac1c0002row6_col13 {\n",
              "            background-color:  #7597f6;\n",
              "            color:  #000000;\n",
              "        }    #T_900d5176_2084_11ea_8691_0242ac1c0002row6_col14 {\n",
              "            background-color:  #f7b599;\n",
              "            color:  #000000;\n",
              "        }    #T_900d5176_2084_11ea_8691_0242ac1c0002row6_col15 {\n",
              "            background-color:  #b5cdfa;\n",
              "            color:  #000000;\n",
              "        }    #T_900d5176_2084_11ea_8691_0242ac1c0002row6_col16 {\n",
              "            background-color:  #4257c9;\n",
              "            color:  #f1f1f1;\n",
              "        }    #T_900d5176_2084_11ea_8691_0242ac1c0002row7_col0 {\n",
              "            background-color:  #3e51c5;\n",
              "            color:  #f1f1f1;\n",
              "        }    #T_900d5176_2084_11ea_8691_0242ac1c0002row7_col1 {\n",
              "            background-color:  #4358cb;\n",
              "            color:  #f1f1f1;\n",
              "        }    #T_900d5176_2084_11ea_8691_0242ac1c0002row7_col2 {\n",
              "            background-color:  #4257c9;\n",
              "            color:  #f1f1f1;\n",
              "        }    #T_900d5176_2084_11ea_8691_0242ac1c0002row7_col3 {\n",
              "            background-color:  #d24b40;\n",
              "            color:  #f1f1f1;\n",
              "        }    #T_900d5176_2084_11ea_8691_0242ac1c0002row7_col4 {\n",
              "            background-color:  #cd423b;\n",
              "            color:  #f1f1f1;\n",
              "        }    #T_900d5176_2084_11ea_8691_0242ac1c0002row7_col5 {\n",
              "            background-color:  #f08b6e;\n",
              "            color:  #000000;\n",
              "        }    #T_900d5176_2084_11ea_8691_0242ac1c0002row7_col6 {\n",
              "            background-color:  #c73635;\n",
              "            color:  #f1f1f1;\n",
              "        }    #T_900d5176_2084_11ea_8691_0242ac1c0002row7_col7 {\n",
              "            background-color:  #b40426;\n",
              "            color:  #f1f1f1;\n",
              "        }    #T_900d5176_2084_11ea_8691_0242ac1c0002row7_col8 {\n",
              "            background-color:  #f7ba9f;\n",
              "            color:  #000000;\n",
              "        }    #T_900d5176_2084_11ea_8691_0242ac1c0002row7_col9 {\n",
              "            background-color:  #f7aa8c;\n",
              "            color:  #000000;\n",
              "        }    #T_900d5176_2084_11ea_8691_0242ac1c0002row7_col10 {\n",
              "            background-color:  #d2dbe8;\n",
              "            color:  #000000;\n",
              "        }    #T_900d5176_2084_11ea_8691_0242ac1c0002row7_col11 {\n",
              "            background-color:  #6282ea;\n",
              "            color:  #000000;\n",
              "        }    #T_900d5176_2084_11ea_8691_0242ac1c0002row7_col12 {\n",
              "            background-color:  #5d7ce6;\n",
              "            color:  #000000;\n",
              "        }    #T_900d5176_2084_11ea_8691_0242ac1c0002row7_col13 {\n",
              "            background-color:  #7699f6;\n",
              "            color:  #000000;\n",
              "        }    #T_900d5176_2084_11ea_8691_0242ac1c0002row7_col14 {\n",
              "            background-color:  #f2c9b4;\n",
              "            color:  #000000;\n",
              "        }    #T_900d5176_2084_11ea_8691_0242ac1c0002row7_col15 {\n",
              "            background-color:  #d2dbe8;\n",
              "            color:  #000000;\n",
              "        }    #T_900d5176_2084_11ea_8691_0242ac1c0002row7_col16 {\n",
              "            background-color:  #4257c9;\n",
              "            color:  #f1f1f1;\n",
              "        }    #T_900d5176_2084_11ea_8691_0242ac1c0002row8_col0 {\n",
              "            background-color:  #3d50c3;\n",
              "            color:  #f1f1f1;\n",
              "        }    #T_900d5176_2084_11ea_8691_0242ac1c0002row8_col1 {\n",
              "            background-color:  #445acc;\n",
              "            color:  #f1f1f1;\n",
              "        }    #T_900d5176_2084_11ea_8691_0242ac1c0002row8_col2 {\n",
              "            background-color:  #4c66d6;\n",
              "            color:  #000000;\n",
              "        }    #T_900d5176_2084_11ea_8691_0242ac1c0002row8_col3 {\n",
              "            background-color:  #f5c1a9;\n",
              "            color:  #000000;\n",
              "        }    #T_900d5176_2084_11ea_8691_0242ac1c0002row8_col4 {\n",
              "            background-color:  #f7b99e;\n",
              "            color:  #000000;\n",
              "        }    #T_900d5176_2084_11ea_8691_0242ac1c0002row8_col5 {\n",
              "            background-color:  #e7d7ce;\n",
              "            color:  #000000;\n",
              "        }    #T_900d5176_2084_11ea_8691_0242ac1c0002row8_col6 {\n",
              "            background-color:  #f4c5ad;\n",
              "            color:  #000000;\n",
              "        }    #T_900d5176_2084_11ea_8691_0242ac1c0002row8_col7 {\n",
              "            background-color:  #f6bea4;\n",
              "            color:  #000000;\n",
              "        }    #T_900d5176_2084_11ea_8691_0242ac1c0002row8_col8 {\n",
              "            background-color:  #b40426;\n",
              "            color:  #f1f1f1;\n",
              "        }    #T_900d5176_2084_11ea_8691_0242ac1c0002row8_col9 {\n",
              "            background-color:  #e5d8d1;\n",
              "            color:  #000000;\n",
              "        }    #T_900d5176_2084_11ea_8691_0242ac1c0002row8_col10 {\n",
              "            background-color:  #cbd8ee;\n",
              "            color:  #000000;\n",
              "        }    #T_900d5176_2084_11ea_8691_0242ac1c0002row8_col11 {\n",
              "            background-color:  #3b4cc0;\n",
              "            color:  #f1f1f1;\n",
              "        }    #T_900d5176_2084_11ea_8691_0242ac1c0002row8_col12 {\n",
              "            background-color:  #3b4cc0;\n",
              "            color:  #f1f1f1;\n",
              "        }    #T_900d5176_2084_11ea_8691_0242ac1c0002row8_col13 {\n",
              "            background-color:  #93b5fe;\n",
              "            color:  #000000;\n",
              "        }    #T_900d5176_2084_11ea_8691_0242ac1c0002row8_col14 {\n",
              "            background-color:  #c6d6f1;\n",
              "            color:  #000000;\n",
              "        }    #T_900d5176_2084_11ea_8691_0242ac1c0002row8_col15 {\n",
              "            background-color:  #7699f6;\n",
              "            color:  #000000;\n",
              "        }    #T_900d5176_2084_11ea_8691_0242ac1c0002row8_col16 {\n",
              "            background-color:  #3b4cc0;\n",
              "            color:  #f1f1f1;\n",
              "        }    #T_900d5176_2084_11ea_8691_0242ac1c0002row9_col0 {\n",
              "            background-color:  #445acc;\n",
              "            color:  #f1f1f1;\n",
              "        }    #T_900d5176_2084_11ea_8691_0242ac1c0002row9_col1 {\n",
              "            background-color:  #3f53c6;\n",
              "            color:  #f1f1f1;\n",
              "        }    #T_900d5176_2084_11ea_8691_0242ac1c0002row9_col2 {\n",
              "            background-color:  #3b4cc0;\n",
              "            color:  #f1f1f1;\n",
              "        }    #T_900d5176_2084_11ea_8691_0242ac1c0002row9_col3 {\n",
              "            background-color:  #ecd3c5;\n",
              "            color:  #000000;\n",
              "        }    #T_900d5176_2084_11ea_8691_0242ac1c0002row9_col4 {\n",
              "            background-color:  #f4c5ad;\n",
              "            color:  #000000;\n",
              "        }    #T_900d5176_2084_11ea_8691_0242ac1c0002row9_col5 {\n",
              "            background-color:  #d2dbe8;\n",
              "            color:  #000000;\n",
              "        }    #T_900d5176_2084_11ea_8691_0242ac1c0002row9_col6 {\n",
              "            background-color:  #f2c9b4;\n",
              "            color:  #000000;\n",
              "        }    #T_900d5176_2084_11ea_8691_0242ac1c0002row9_col7 {\n",
              "            background-color:  #f7aa8c;\n",
              "            color:  #000000;\n",
              "        }    #T_900d5176_2084_11ea_8691_0242ac1c0002row9_col8 {\n",
              "            background-color:  #e7d7ce;\n",
              "            color:  #000000;\n",
              "        }    #T_900d5176_2084_11ea_8691_0242ac1c0002row9_col9 {\n",
              "            background-color:  #b40426;\n",
              "            color:  #f1f1f1;\n",
              "        }    #T_900d5176_2084_11ea_8691_0242ac1c0002row9_col10 {\n",
              "            background-color:  #f7b89c;\n",
              "            color:  #000000;\n",
              "        }    #T_900d5176_2084_11ea_8691_0242ac1c0002row9_col11 {\n",
              "            background-color:  #7597f6;\n",
              "            color:  #000000;\n",
              "        }    #T_900d5176_2084_11ea_8691_0242ac1c0002row9_col12 {\n",
              "            background-color:  #5673e0;\n",
              "            color:  #000000;\n",
              "        }    #T_900d5176_2084_11ea_8691_0242ac1c0002row9_col13 {\n",
              "            background-color:  #84a7fc;\n",
              "            color:  #000000;\n",
              "        }    #T_900d5176_2084_11ea_8691_0242ac1c0002row9_col14 {\n",
              "            background-color:  #abc8fd;\n",
              "            color:  #000000;\n",
              "        }    #T_900d5176_2084_11ea_8691_0242ac1c0002row9_col15 {\n",
              "            background-color:  #b7cff9;\n",
              "            color:  #000000;\n",
              "        }    #T_900d5176_2084_11ea_8691_0242ac1c0002row9_col16 {\n",
              "            background-color:  #3f53c6;\n",
              "            color:  #f1f1f1;\n",
              "        }    #T_900d5176_2084_11ea_8691_0242ac1c0002row10_col0 {\n",
              "            background-color:  #455cce;\n",
              "            color:  #f1f1f1;\n",
              "        }    #T_900d5176_2084_11ea_8691_0242ac1c0002row10_col1 {\n",
              "            background-color:  #3b4cc0;\n",
              "            color:  #f1f1f1;\n",
              "        }    #T_900d5176_2084_11ea_8691_0242ac1c0002row10_col2 {\n",
              "            background-color:  #3b4cc0;\n",
              "            color:  #f1f1f1;\n",
              "        }    #T_900d5176_2084_11ea_8691_0242ac1c0002row10_col3 {\n",
              "            background-color:  #bcd2f7;\n",
              "            color:  #000000;\n",
              "        }    #T_900d5176_2084_11ea_8691_0242ac1c0002row10_col4 {\n",
              "            background-color:  #cdd9ec;\n",
              "            color:  #000000;\n",
              "        }    #T_900d5176_2084_11ea_8691_0242ac1c0002row10_col5 {\n",
              "            background-color:  #adc9fd;\n",
              "            color:  #000000;\n",
              "        }    #T_900d5176_2084_11ea_8691_0242ac1c0002row10_col6 {\n",
              "            background-color:  #cedaeb;\n",
              "            color:  #000000;\n",
              "        }    #T_900d5176_2084_11ea_8691_0242ac1c0002row10_col7 {\n",
              "            background-color:  #d8dce2;\n",
              "            color:  #000000;\n",
              "        }    #T_900d5176_2084_11ea_8691_0242ac1c0002row10_col8 {\n",
              "            background-color:  #d6dce4;\n",
              "            color:  #000000;\n",
              "        }    #T_900d5176_2084_11ea_8691_0242ac1c0002row10_col9 {\n",
              "            background-color:  #f7b396;\n",
              "            color:  #000000;\n",
              "        }    #T_900d5176_2084_11ea_8691_0242ac1c0002row10_col10 {\n",
              "            background-color:  #b40426;\n",
              "            color:  #f1f1f1;\n",
              "        }    #T_900d5176_2084_11ea_8691_0242ac1c0002row10_col11 {\n",
              "            background-color:  #85a8fc;\n",
              "            color:  #000000;\n",
              "        }    #T_900d5176_2084_11ea_8691_0242ac1c0002row10_col12 {\n",
              "            background-color:  #5572df;\n",
              "            color:  #000000;\n",
              "        }    #T_900d5176_2084_11ea_8691_0242ac1c0002row10_col13 {\n",
              "            background-color:  #82a6fb;\n",
              "            color:  #000000;\n",
              "        }    #T_900d5176_2084_11ea_8691_0242ac1c0002row10_col14 {\n",
              "            background-color:  #86a9fc;\n",
              "            color:  #000000;\n",
              "        }    #T_900d5176_2084_11ea_8691_0242ac1c0002row10_col15 {\n",
              "            background-color:  #96b7ff;\n",
              "            color:  #000000;\n",
              "        }    #T_900d5176_2084_11ea_8691_0242ac1c0002row10_col16 {\n",
              "            background-color:  #4f69d9;\n",
              "            color:  #000000;\n",
              "        }    #T_900d5176_2084_11ea_8691_0242ac1c0002row11_col0 {\n",
              "            background-color:  #5977e3;\n",
              "            color:  #000000;\n",
              "        }    #T_900d5176_2084_11ea_8691_0242ac1c0002row11_col1 {\n",
              "            background-color:  #465ecf;\n",
              "            color:  #f1f1f1;\n",
              "        }    #T_900d5176_2084_11ea_8691_0242ac1c0002row11_col2 {\n",
              "            background-color:  #3b4cc0;\n",
              "            color:  #f1f1f1;\n",
              "        }    #T_900d5176_2084_11ea_8691_0242ac1c0002row11_col3 {\n",
              "            background-color:  #6485ec;\n",
              "            color:  #000000;\n",
              "        }    #T_900d5176_2084_11ea_8691_0242ac1c0002row11_col4 {\n",
              "            background-color:  #5a78e4;\n",
              "            color:  #000000;\n",
              "        }    #T_900d5176_2084_11ea_8691_0242ac1c0002row11_col5 {\n",
              "            background-color:  #4a63d3;\n",
              "            color:  #f1f1f1;\n",
              "        }    #T_900d5176_2084_11ea_8691_0242ac1c0002row11_col6 {\n",
              "            background-color:  #688aef;\n",
              "            color:  #000000;\n",
              "        }    #T_900d5176_2084_11ea_8691_0242ac1c0002row11_col7 {\n",
              "            background-color:  #6788ee;\n",
              "            color:  #000000;\n",
              "        }    #T_900d5176_2084_11ea_8691_0242ac1c0002row11_col8 {\n",
              "            background-color:  #485fd1;\n",
              "            color:  #f1f1f1;\n",
              "        }    #T_900d5176_2084_11ea_8691_0242ac1c0002row11_col9 {\n",
              "            background-color:  #7b9ff9;\n",
              "            color:  #000000;\n",
              "        }    #T_900d5176_2084_11ea_8691_0242ac1c0002row11_col10 {\n",
              "            background-color:  #7ea1fa;\n",
              "            color:  #000000;\n",
              "        }    #T_900d5176_2084_11ea_8691_0242ac1c0002row11_col11 {\n",
              "            background-color:  #b40426;\n",
              "            color:  #f1f1f1;\n",
              "        }    #T_900d5176_2084_11ea_8691_0242ac1c0002row11_col12 {\n",
              "            background-color:  #f5c1a9;\n",
              "            color:  #000000;\n",
              "        }    #T_900d5176_2084_11ea_8691_0242ac1c0002row11_col13 {\n",
              "            background-color:  #455cce;\n",
              "            color:  #f1f1f1;\n",
              "        }    #T_900d5176_2084_11ea_8691_0242ac1c0002row11_col14 {\n",
              "            background-color:  #6a8bef;\n",
              "            color:  #000000;\n",
              "        }    #T_900d5176_2084_11ea_8691_0242ac1c0002row11_col15 {\n",
              "            background-color:  #688aef;\n",
              "            color:  #000000;\n",
              "        }    #T_900d5176_2084_11ea_8691_0242ac1c0002row11_col16 {\n",
              "            background-color:  #7ea1fa;\n",
              "            color:  #000000;\n",
              "        }    #T_900d5176_2084_11ea_8691_0242ac1c0002row12_col0 {\n",
              "            background-color:  #6282ea;\n",
              "            color:  #000000;\n",
              "        }    #T_900d5176_2084_11ea_8691_0242ac1c0002row12_col1 {\n",
              "            background-color:  #5977e3;\n",
              "            color:  #000000;\n",
              "        }    #T_900d5176_2084_11ea_8691_0242ac1c0002row12_col2 {\n",
              "            background-color:  #4055c8;\n",
              "            color:  #f1f1f1;\n",
              "        }    #T_900d5176_2084_11ea_8691_0242ac1c0002row12_col3 {\n",
              "            background-color:  #6282ea;\n",
              "            color:  #000000;\n",
              "        }    #T_900d5176_2084_11ea_8691_0242ac1c0002row12_col4 {\n",
              "            background-color:  #506bda;\n",
              "            color:  #000000;\n",
              "        }    #T_900d5176_2084_11ea_8691_0242ac1c0002row12_col5 {\n",
              "            background-color:  #3f53c6;\n",
              "            color:  #f1f1f1;\n",
              "        }    #T_900d5176_2084_11ea_8691_0242ac1c0002row12_col6 {\n",
              "            background-color:  #5977e3;\n",
              "            color:  #000000;\n",
              "        }    #T_900d5176_2084_11ea_8691_0242ac1c0002row12_col7 {\n",
              "            background-color:  #5470de;\n",
              "            color:  #000000;\n",
              "        }    #T_900d5176_2084_11ea_8691_0242ac1c0002row12_col8 {\n",
              "            background-color:  #3b4cc0;\n",
              "            color:  #f1f1f1;\n",
              "        }    #T_900d5176_2084_11ea_8691_0242ac1c0002row12_col9 {\n",
              "            background-color:  #506bda;\n",
              "            color:  #000000;\n",
              "        }    #T_900d5176_2084_11ea_8691_0242ac1c0002row12_col10 {\n",
              "            background-color:  #3f53c6;\n",
              "            color:  #f1f1f1;\n",
              "        }    #T_900d5176_2084_11ea_8691_0242ac1c0002row12_col11 {\n",
              "            background-color:  #f4c6af;\n",
              "            color:  #000000;\n",
              "        }    #T_900d5176_2084_11ea_8691_0242ac1c0002row12_col12 {\n",
              "            background-color:  #b40426;\n",
              "            color:  #f1f1f1;\n",
              "        }    #T_900d5176_2084_11ea_8691_0242ac1c0002row12_col13 {\n",
              "            background-color:  #3b4cc0;\n",
              "            color:  #f1f1f1;\n",
              "        }    #T_900d5176_2084_11ea_8691_0242ac1c0002row12_col14 {\n",
              "            background-color:  #6384eb;\n",
              "            color:  #000000;\n",
              "        }    #T_900d5176_2084_11ea_8691_0242ac1c0002row12_col15 {\n",
              "            background-color:  #516ddb;\n",
              "            color:  #000000;\n",
              "        }    #T_900d5176_2084_11ea_8691_0242ac1c0002row12_col16 {\n",
              "            background-color:  #8db0fe;\n",
              "            color:  #000000;\n",
              "        }    #T_900d5176_2084_11ea_8691_0242ac1c0002row13_col0 {\n",
              "            background-color:  #4358cb;\n",
              "            color:  #f1f1f1;\n",
              "        }    #T_900d5176_2084_11ea_8691_0242ac1c0002row13_col1 {\n",
              "            background-color:  #536edd;\n",
              "            color:  #000000;\n",
              "        }    #T_900d5176_2084_11ea_8691_0242ac1c0002row13_col2 {\n",
              "            background-color:  #4f69d9;\n",
              "            color:  #000000;\n",
              "        }    #T_900d5176_2084_11ea_8691_0242ac1c0002row13_col3 {\n",
              "            background-color:  #7093f3;\n",
              "            color:  #000000;\n",
              "        }    #T_900d5176_2084_11ea_8691_0242ac1c0002row13_col4 {\n",
              "            background-color:  #7da0f9;\n",
              "            color:  #000000;\n",
              "        }    #T_900d5176_2084_11ea_8691_0242ac1c0002row13_col5 {\n",
              "            background-color:  #6b8df0;\n",
              "            color:  #000000;\n",
              "        }    #T_900d5176_2084_11ea_8691_0242ac1c0002row13_col6 {\n",
              "            background-color:  #779af7;\n",
              "            color:  #000000;\n",
              "        }    #T_900d5176_2084_11ea_8691_0242ac1c0002row13_col7 {\n",
              "            background-color:  #799cf8;\n",
              "            color:  #000000;\n",
              "        }    #T_900d5176_2084_11ea_8691_0242ac1c0002row13_col8 {\n",
              "            background-color:  #9dbdff;\n",
              "            color:  #000000;\n",
              "        }    #T_900d5176_2084_11ea_8691_0242ac1c0002row13_col9 {\n",
              "            background-color:  #89acfd;\n",
              "            color:  #000000;\n",
              "        }    #T_900d5176_2084_11ea_8691_0242ac1c0002row13_col10 {\n",
              "            background-color:  #7a9df8;\n",
              "            color:  #000000;\n",
              "        }    #T_900d5176_2084_11ea_8691_0242ac1c0002row13_col11 {\n",
              "            background-color:  #445acc;\n",
              "            color:  #f1f1f1;\n",
              "        }    #T_900d5176_2084_11ea_8691_0242ac1c0002row13_col12 {\n",
              "            background-color:  #465ecf;\n",
              "            color:  #f1f1f1;\n",
              "        }    #T_900d5176_2084_11ea_8691_0242ac1c0002row13_col13 {\n",
              "            background-color:  #b40426;\n",
              "            color:  #f1f1f1;\n",
              "        }    #T_900d5176_2084_11ea_8691_0242ac1c0002row13_col14 {\n",
              "            background-color:  #4c66d6;\n",
              "            color:  #000000;\n",
              "        }    #T_900d5176_2084_11ea_8691_0242ac1c0002row13_col15 {\n",
              "            background-color:  #a7c5fe;\n",
              "            color:  #000000;\n",
              "        }    #T_900d5176_2084_11ea_8691_0242ac1c0002row13_col16 {\n",
              "            background-color:  #6e90f2;\n",
              "            color:  #000000;\n",
              "        }    #T_900d5176_2084_11ea_8691_0242ac1c0002row14_col0 {\n",
              "            background-color:  #4b64d5;\n",
              "            color:  #f1f1f1;\n",
              "        }    #T_900d5176_2084_11ea_8691_0242ac1c0002row14_col1 {\n",
              "            background-color:  #5875e1;\n",
              "            color:  #000000;\n",
              "        }    #T_900d5176_2084_11ea_8691_0242ac1c0002row14_col2 {\n",
              "            background-color:  #5673e0;\n",
              "            color:  #000000;\n",
              "        }    #T_900d5176_2084_11ea_8691_0242ac1c0002row14_col3 {\n",
              "            background-color:  #f7ad90;\n",
              "            color:  #000000;\n",
              "        }    #T_900d5176_2084_11ea_8691_0242ac1c0002row14_col4 {\n",
              "            background-color:  #f4c5ad;\n",
              "            color:  #000000;\n",
              "        }    #T_900d5176_2084_11ea_8691_0242ac1c0002row14_col5 {\n",
              "            background-color:  #f6a586;\n",
              "            color:  #000000;\n",
              "        }    #T_900d5176_2084_11ea_8691_0242ac1c0002row14_col6 {\n",
              "            background-color:  #f7b093;\n",
              "            color:  #000000;\n",
              "        }    #T_900d5176_2084_11ea_8691_0242ac1c0002row14_col7 {\n",
              "            background-color:  #f5c4ac;\n",
              "            color:  #000000;\n",
              "        }    #T_900d5176_2084_11ea_8691_0242ac1c0002row14_col8 {\n",
              "            background-color:  #d3dbe7;\n",
              "            color:  #000000;\n",
              "        }    #T_900d5176_2084_11ea_8691_0242ac1c0002row14_col9 {\n",
              "            background-color:  #b7cff9;\n",
              "            color:  #000000;\n",
              "        }    #T_900d5176_2084_11ea_8691_0242ac1c0002row14_col10 {\n",
              "            background-color:  #88abfd;\n",
              "            color:  #000000;\n",
              "        }    #T_900d5176_2084_11ea_8691_0242ac1c0002row14_col11 {\n",
              "            background-color:  #7396f5;\n",
              "            color:  #000000;\n",
              "        }    #T_900d5176_2084_11ea_8691_0242ac1c0002row14_col12 {\n",
              "            background-color:  #7a9df8;\n",
              "            color:  #000000;\n",
              "        }    #T_900d5176_2084_11ea_8691_0242ac1c0002row14_col13 {\n",
              "            background-color:  #5875e1;\n",
              "            color:  #000000;\n",
              "        }    #T_900d5176_2084_11ea_8691_0242ac1c0002row14_col14 {\n",
              "            background-color:  #b40426;\n",
              "            color:  #f1f1f1;\n",
              "        }    #T_900d5176_2084_11ea_8691_0242ac1c0002row14_col15 {\n",
              "            background-color:  #a5c3fe;\n",
              "            color:  #000000;\n",
              "        }    #T_900d5176_2084_11ea_8691_0242ac1c0002row14_col16 {\n",
              "            background-color:  #506bda;\n",
              "            color:  #000000;\n",
              "        }    #T_900d5176_2084_11ea_8691_0242ac1c0002row15_col0 {\n",
              "            background-color:  #4f69d9;\n",
              "            color:  #000000;\n",
              "        }    #T_900d5176_2084_11ea_8691_0242ac1c0002row15_col1 {\n",
              "            background-color:  #4257c9;\n",
              "            color:  #f1f1f1;\n",
              "        }    #T_900d5176_2084_11ea_8691_0242ac1c0002row15_col2 {\n",
              "            background-color:  #485fd1;\n",
              "            color:  #f1f1f1;\n",
              "        }    #T_900d5176_2084_11ea_8691_0242ac1c0002row15_col3 {\n",
              "            background-color:  #b5cdfa;\n",
              "            color:  #000000;\n",
              "        }    #T_900d5176_2084_11ea_8691_0242ac1c0002row15_col4 {\n",
              "            background-color:  #bed2f6;\n",
              "            color:  #000000;\n",
              "        }    #T_900d5176_2084_11ea_8691_0242ac1c0002row15_col5 {\n",
              "            background-color:  #89acfd;\n",
              "            color:  #000000;\n",
              "        }    #T_900d5176_2084_11ea_8691_0242ac1c0002row15_col6 {\n",
              "            background-color:  #c3d5f4;\n",
              "            color:  #000000;\n",
              "        }    #T_900d5176_2084_11ea_8691_0242ac1c0002row15_col7 {\n",
              "            background-color:  #dbdcde;\n",
              "            color:  #000000;\n",
              "        }    #T_900d5176_2084_11ea_8691_0242ac1c0002row15_col8 {\n",
              "            background-color:  #92b4fe;\n",
              "            color:  #000000;\n",
              "        }    #T_900d5176_2084_11ea_8691_0242ac1c0002row15_col9 {\n",
              "            background-color:  #c6d6f1;\n",
              "            color:  #000000;\n",
              "        }    #T_900d5176_2084_11ea_8691_0242ac1c0002row15_col10 {\n",
              "            background-color:  #9dbdff;\n",
              "            color:  #000000;\n",
              "        }    #T_900d5176_2084_11ea_8691_0242ac1c0002row15_col11 {\n",
              "            background-color:  #779af7;\n",
              "            color:  #000000;\n",
              "        }    #T_900d5176_2084_11ea_8691_0242ac1c0002row15_col12 {\n",
              "            background-color:  #6f92f3;\n",
              "            color:  #000000;\n",
              "        }    #T_900d5176_2084_11ea_8691_0242ac1c0002row15_col13 {\n",
              "            background-color:  #b5cdfa;\n",
              "            color:  #000000;\n",
              "        }    #T_900d5176_2084_11ea_8691_0242ac1c0002row15_col14 {\n",
              "            background-color:  #a9c6fd;\n",
              "            color:  #000000;\n",
              "        }    #T_900d5176_2084_11ea_8691_0242ac1c0002row15_col15 {\n",
              "            background-color:  #b40426;\n",
              "            color:  #f1f1f1;\n",
              "        }    #T_900d5176_2084_11ea_8691_0242ac1c0002row15_col16 {\n",
              "            background-color:  #5673e0;\n",
              "            color:  #000000;\n",
              "        }    #T_900d5176_2084_11ea_8691_0242ac1c0002row16_col0 {\n",
              "            background-color:  #7295f4;\n",
              "            color:  #000000;\n",
              "        }    #T_900d5176_2084_11ea_8691_0242ac1c0002row16_col1 {\n",
              "            background-color:  #4f69d9;\n",
              "            color:  #000000;\n",
              "        }    #T_900d5176_2084_11ea_8691_0242ac1c0002row16_col2 {\n",
              "            background-color:  #4f69d9;\n",
              "            color:  #000000;\n",
              "        }    #T_900d5176_2084_11ea_8691_0242ac1c0002row16_col3 {\n",
              "            background-color:  #3b4cc0;\n",
              "            color:  #f1f1f1;\n",
              "        }    #T_900d5176_2084_11ea_8691_0242ac1c0002row16_col4 {\n",
              "            background-color:  #3b4cc0;\n",
              "            color:  #f1f1f1;\n",
              "        }    #T_900d5176_2084_11ea_8691_0242ac1c0002row16_col5 {\n",
              "            background-color:  #3b4cc0;\n",
              "            color:  #f1f1f1;\n",
              "        }    #T_900d5176_2084_11ea_8691_0242ac1c0002row16_col6 {\n",
              "            background-color:  #3b4cc0;\n",
              "            color:  #f1f1f1;\n",
              "        }    #T_900d5176_2084_11ea_8691_0242ac1c0002row16_col7 {\n",
              "            background-color:  #3b4cc0;\n",
              "            color:  #f1f1f1;\n",
              "        }    #T_900d5176_2084_11ea_8691_0242ac1c0002row16_col8 {\n",
              "            background-color:  #3b4cc0;\n",
              "            color:  #f1f1f1;\n",
              "        }    #T_900d5176_2084_11ea_8691_0242ac1c0002row16_col9 {\n",
              "            background-color:  #3b4cc0;\n",
              "            color:  #f1f1f1;\n",
              "        }    #T_900d5176_2084_11ea_8691_0242ac1c0002row16_col10 {\n",
              "            background-color:  #3b4cc0;\n",
              "            color:  #f1f1f1;\n",
              "        }    #T_900d5176_2084_11ea_8691_0242ac1c0002row16_col11 {\n",
              "            background-color:  #7295f4;\n",
              "            color:  #000000;\n",
              "        }    #T_900d5176_2084_11ea_8691_0242ac1c0002row16_col12 {\n",
              "            background-color:  #8fb1fe;\n",
              "            color:  #000000;\n",
              "        }    #T_900d5176_2084_11ea_8691_0242ac1c0002row16_col13 {\n",
              "            background-color:  #6384eb;\n",
              "            color:  #000000;\n",
              "        }    #T_900d5176_2084_11ea_8691_0242ac1c0002row16_col14 {\n",
              "            background-color:  #3b4cc0;\n",
              "            color:  #f1f1f1;\n",
              "        }    #T_900d5176_2084_11ea_8691_0242ac1c0002row16_col15 {\n",
              "            background-color:  #3b4cc0;\n",
              "            color:  #f1f1f1;\n",
              "        }    #T_900d5176_2084_11ea_8691_0242ac1c0002row16_col16 {\n",
              "            background-color:  #b40426;\n",
              "            color:  #f1f1f1;\n",
              "        }</style><table id=\"T_900d5176_2084_11ea_8691_0242ac1c0002\" ><thead>    <tr>        <th class=\"blank level0\" ></th>        <th class=\"col_heading level0 col0\" >clicks</th>        <th class=\"col_heading level0 col1\" >spend</th>        <th class=\"col_heading level0 col2\" >clength</th>        <th class=\"col_heading level0 col3\" >toxic</th>        <th class=\"col_heading level0 col4\" >sevtoxic</th>        <th class=\"col_heading level0 col5\" >idattack</th>        <th class=\"col_heading level0 col6\" >insult</th>        <th class=\"col_heading level0 col7\" >profane</th>        <th class=\"col_heading level0 col8\" >threat</th>        <th class=\"col_heading level0 col9\" >sexexp</th>        <th class=\"col_heading level0 col10\" >flirt</th>        <th class=\"col_heading level0 col11\" >a_author</th>        <th class=\"col_heading level0 col12\" >a_commentor</th>        <th class=\"col_heading level0 col13\" >incoh</th>        <th class=\"col_heading level0 col14\" >inflam</th>        <th class=\"col_heading level0 col15\" >obscene</th>        <th class=\"col_heading level0 col16\" >target_count</th>    </tr></thead><tbody>\n",
              "                <tr>\n",
              "                        <th id=\"T_900d5176_2084_11ea_8691_0242ac1c0002level0_row0\" class=\"row_heading level0 row0\" >clicks</th>\n",
              "                        <td id=\"T_900d5176_2084_11ea_8691_0242ac1c0002row0_col0\" class=\"data row0 col0\" >1</td>\n",
              "                        <td id=\"T_900d5176_2084_11ea_8691_0242ac1c0002row0_col1\" class=\"data row0 col1\" >0.65</td>\n",
              "                        <td id=\"T_900d5176_2084_11ea_8691_0242ac1c0002row0_col2\" class=\"data row0 col2\" >-0.003</td>\n",
              "                        <td id=\"T_900d5176_2084_11ea_8691_0242ac1c0002row0_col3\" class=\"data row0 col3\" >-0.073</td>\n",
              "                        <td id=\"T_900d5176_2084_11ea_8691_0242ac1c0002row0_col4\" class=\"data row0 col4\" >-0.058</td>\n",
              "                        <td id=\"T_900d5176_2084_11ea_8691_0242ac1c0002row0_col5\" class=\"data row0 col5\" >-0.084</td>\n",
              "                        <td id=\"T_900d5176_2084_11ea_8691_0242ac1c0002row0_col6\" class=\"data row0 col6\" >-0.084</td>\n",
              "                        <td id=\"T_900d5176_2084_11ea_8691_0242ac1c0002row0_col7\" class=\"data row0 col7\" >-0.071</td>\n",
              "                        <td id=\"T_900d5176_2084_11ea_8691_0242ac1c0002row0_col8\" class=\"data row0 col8\" >-0.071</td>\n",
              "                        <td id=\"T_900d5176_2084_11ea_8691_0242ac1c0002row0_col9\" class=\"data row0 col9\" >-0.049</td>\n",
              "                        <td id=\"T_900d5176_2084_11ea_8691_0242ac1c0002row0_col10\" class=\"data row0 col10\" >-0.044</td>\n",
              "                        <td id=\"T_900d5176_2084_11ea_8691_0242ac1c0002row0_col11\" class=\"data row0 col11\" >0.025</td>\n",
              "                        <td id=\"T_900d5176_2084_11ea_8691_0242ac1c0002row0_col12\" class=\"data row0 col12\" >0.053</td>\n",
              "                        <td id=\"T_900d5176_2084_11ea_8691_0242ac1c0002row0_col13\" class=\"data row0 col13\" >-0.054</td>\n",
              "                        <td id=\"T_900d5176_2084_11ea_8691_0242ac1c0002row0_col14\" class=\"data row0 col14\" >-0.021</td>\n",
              "                        <td id=\"T_900d5176_2084_11ea_8691_0242ac1c0002row0_col15\" class=\"data row0 col15\" >-0.011</td>\n",
              "                        <td id=\"T_900d5176_2084_11ea_8691_0242ac1c0002row0_col16\" class=\"data row0 col16\" >0.11</td>\n",
              "            </tr>\n",
              "            <tr>\n",
              "                        <th id=\"T_900d5176_2084_11ea_8691_0242ac1c0002level0_row1\" class=\"row_heading level0 row1\" >spend</th>\n",
              "                        <td id=\"T_900d5176_2084_11ea_8691_0242ac1c0002row1_col0\" class=\"data row1 col0\" >0.65</td>\n",
              "                        <td id=\"T_900d5176_2084_11ea_8691_0242ac1c0002row1_col1\" class=\"data row1 col1\" >1</td>\n",
              "                        <td id=\"T_900d5176_2084_11ea_8691_0242ac1c0002row1_col2\" class=\"data row1 col2\" >0.28</td>\n",
              "                        <td id=\"T_900d5176_2084_11ea_8691_0242ac1c0002row1_col3\" class=\"data row1 col3\" >-0.034</td>\n",
              "                        <td id=\"T_900d5176_2084_11ea_8691_0242ac1c0002row1_col4\" class=\"data row1 col4\" >-0.037</td>\n",
              "                        <td id=\"T_900d5176_2084_11ea_8691_0242ac1c0002row1_col5\" class=\"data row1 col5\" >-0.019</td>\n",
              "                        <td id=\"T_900d5176_2084_11ea_8691_0242ac1c0002row1_col6\" class=\"data row1 col6\" >-0.054</td>\n",
              "                        <td id=\"T_900d5176_2084_11ea_8691_0242ac1c0002row1_col7\" class=\"data row1 col7\" >-0.053</td>\n",
              "                        <td id=\"T_900d5176_2084_11ea_8691_0242ac1c0002row1_col8\" class=\"data row1 col8\" >-0.046</td>\n",
              "                        <td id=\"T_900d5176_2084_11ea_8691_0242ac1c0002row1_col9\" class=\"data row1 col9\" >-0.067</td>\n",
              "                        <td id=\"T_900d5176_2084_11ea_8691_0242ac1c0002row1_col10\" class=\"data row1 col10\" >-0.084</td>\n",
              "                        <td id=\"T_900d5176_2084_11ea_8691_0242ac1c0002row1_col11\" class=\"data row1 col11\" >-0.039</td>\n",
              "                        <td id=\"T_900d5176_2084_11ea_8691_0242ac1c0002row1_col12\" class=\"data row1 col12\" >0.023</td>\n",
              "                        <td id=\"T_900d5176_2084_11ea_8691_0242ac1c0002row1_col13\" class=\"data row1 col13\" >0.0039</td>\n",
              "                        <td id=\"T_900d5176_2084_11ea_8691_0242ac1c0002row1_col14\" class=\"data row1 col14\" >0.022</td>\n",
              "                        <td id=\"T_900d5176_2084_11ea_8691_0242ac1c0002row1_col15\" class=\"data row1 col15\" >-0.055</td>\n",
              "                        <td id=\"T_900d5176_2084_11ea_8691_0242ac1c0002row1_col16\" class=\"data row1 col16\" >-0.011</td>\n",
              "            </tr>\n",
              "            <tr>\n",
              "                        <th id=\"T_900d5176_2084_11ea_8691_0242ac1c0002level0_row2\" class=\"row_heading level0 row2\" >clength</th>\n",
              "                        <td id=\"T_900d5176_2084_11ea_8691_0242ac1c0002row2_col0\" class=\"data row2 col0\" >-0.003</td>\n",
              "                        <td id=\"T_900d5176_2084_11ea_8691_0242ac1c0002row2_col1\" class=\"data row2 col1\" >0.28</td>\n",
              "                        <td id=\"T_900d5176_2084_11ea_8691_0242ac1c0002row2_col2\" class=\"data row2 col2\" >1</td>\n",
              "                        <td id=\"T_900d5176_2084_11ea_8691_0242ac1c0002row2_col3\" class=\"data row2 col3\" >-0.018</td>\n",
              "                        <td id=\"T_900d5176_2084_11ea_8691_0242ac1c0002row2_col4\" class=\"data row2 col4\" >-0.028</td>\n",
              "                        <td id=\"T_900d5176_2084_11ea_8691_0242ac1c0002row2_col5\" class=\"data row2 col5\" >0.0043</td>\n",
              "                        <td id=\"T_900d5176_2084_11ea_8691_0242ac1c0002row2_col6\" class=\"data row2 col6\" >-0.033</td>\n",
              "                        <td id=\"T_900d5176_2084_11ea_8691_0242ac1c0002row2_col7\" class=\"data row2 col7\" >-0.035</td>\n",
              "                        <td id=\"T_900d5176_2084_11ea_8691_0242ac1c0002row2_col8\" class=\"data row2 col8\" >0.001</td>\n",
              "                        <td id=\"T_900d5176_2084_11ea_8691_0242ac1c0002row2_col9\" class=\"data row2 col9\" >-0.06</td>\n",
              "                        <td id=\"T_900d5176_2084_11ea_8691_0242ac1c0002row2_col10\" class=\"data row2 col10\" >-0.063</td>\n",
              "                        <td id=\"T_900d5176_2084_11ea_8691_0242ac1c0002row2_col11\" class=\"data row2 col11\" >-0.06</td>\n",
              "                        <td id=\"T_900d5176_2084_11ea_8691_0242ac1c0002row2_col12\" class=\"data row2 col12\" >-0.039</td>\n",
              "                        <td id=\"T_900d5176_2084_11ea_8691_0242ac1c0002row2_col13\" class=\"data row2 col13\" >0.01</td>\n",
              "                        <td id=\"T_900d5176_2084_11ea_8691_0242ac1c0002row2_col14\" class=\"data row2 col14\" >0.035</td>\n",
              "                        <td id=\"T_900d5176_2084_11ea_8691_0242ac1c0002row2_col15\" class=\"data row2 col15\" >-0.017</td>\n",
              "                        <td id=\"T_900d5176_2084_11ea_8691_0242ac1c0002row2_col16\" class=\"data row2 col16\" >0.0092</td>\n",
              "            </tr>\n",
              "            <tr>\n",
              "                        <th id=\"T_900d5176_2084_11ea_8691_0242ac1c0002level0_row3\" class=\"row_heading level0 row3\" >toxic</th>\n",
              "                        <td id=\"T_900d5176_2084_11ea_8691_0242ac1c0002row3_col0\" class=\"data row3 col0\" >-0.073</td>\n",
              "                        <td id=\"T_900d5176_2084_11ea_8691_0242ac1c0002row3_col1\" class=\"data row3 col1\" >-0.034</td>\n",
              "                        <td id=\"T_900d5176_2084_11ea_8691_0242ac1c0002row3_col2\" class=\"data row3 col2\" >-0.018</td>\n",
              "                        <td id=\"T_900d5176_2084_11ea_8691_0242ac1c0002row3_col3\" class=\"data row3 col3\" >1</td>\n",
              "                        <td id=\"T_900d5176_2084_11ea_8691_0242ac1c0002row3_col4\" class=\"data row3 col4\" >0.94</td>\n",
              "                        <td id=\"T_900d5176_2084_11ea_8691_0242ac1c0002row3_col5\" class=\"data row3 col5\" >0.87</td>\n",
              "                        <td id=\"T_900d5176_2084_11ea_8691_0242ac1c0002row3_col6\" class=\"data row3 col6\" >0.95</td>\n",
              "                        <td id=\"T_900d5176_2084_11ea_8691_0242ac1c0002row3_col7\" class=\"data row3 col7\" >0.9</td>\n",
              "                        <td id=\"T_900d5176_2084_11ea_8691_0242ac1c0002row3_col8\" class=\"data row3 col8\" >0.58</td>\n",
              "                        <td id=\"T_900d5176_2084_11ea_8691_0242ac1c0002row3_col9\" class=\"data row3 col9\" >0.5</td>\n",
              "                        <td id=\"T_900d5176_2084_11ea_8691_0242ac1c0002row3_col10\" class=\"data row3 col10\" >0.3</td>\n",
              "                        <td id=\"T_900d5176_2084_11ea_8691_0242ac1c0002row3_col11\" class=\"data row3 col11\" >0.0062</td>\n",
              "                        <td id=\"T_900d5176_2084_11ea_8691_0242ac1c0002row3_col12\" class=\"data row3 col12\" >0.00044</td>\n",
              "                        <td id=\"T_900d5176_2084_11ea_8691_0242ac1c0002row3_col13\" class=\"data row3 col13\" >0.047</td>\n",
              "                        <td id=\"T_900d5176_2084_11ea_8691_0242ac1c0002row3_col14\" class=\"data row3 col14\" >0.65</td>\n",
              "                        <td id=\"T_900d5176_2084_11ea_8691_0242ac1c0002row3_col15\" class=\"data row3 col15\" >0.27</td>\n",
              "                        <td id=\"T_900d5176_2084_11ea_8691_0242ac1c0002row3_col16\" class=\"data row3 col16\" >-0.15</td>\n",
              "            </tr>\n",
              "            <tr>\n",
              "                        <th id=\"T_900d5176_2084_11ea_8691_0242ac1c0002level0_row4\" class=\"row_heading level0 row4\" >sevtoxic</th>\n",
              "                        <td id=\"T_900d5176_2084_11ea_8691_0242ac1c0002row4_col0\" class=\"data row4 col0\" >-0.058</td>\n",
              "                        <td id=\"T_900d5176_2084_11ea_8691_0242ac1c0002row4_col1\" class=\"data row4 col1\" >-0.037</td>\n",
              "                        <td id=\"T_900d5176_2084_11ea_8691_0242ac1c0002row4_col2\" class=\"data row4 col2\" >-0.028</td>\n",
              "                        <td id=\"T_900d5176_2084_11ea_8691_0242ac1c0002row4_col3\" class=\"data row4 col3\" >0.94</td>\n",
              "                        <td id=\"T_900d5176_2084_11ea_8691_0242ac1c0002row4_col4\" class=\"data row4 col4\" >1</td>\n",
              "                        <td id=\"T_900d5176_2084_11ea_8691_0242ac1c0002row4_col5\" class=\"data row4 col5\" >0.83</td>\n",
              "                        <td id=\"T_900d5176_2084_11ea_8691_0242ac1c0002row4_col6\" class=\"data row4 col6\" >0.93</td>\n",
              "                        <td id=\"T_900d5176_2084_11ea_8691_0242ac1c0002row4_col7\" class=\"data row4 col7\" >0.92</td>\n",
              "                        <td id=\"T_900d5176_2084_11ea_8691_0242ac1c0002row4_col8\" class=\"data row4 col8\" >0.62</td>\n",
              "                        <td id=\"T_900d5176_2084_11ea_8691_0242ac1c0002row4_col9\" class=\"data row4 col9\" >0.58</td>\n",
              "                        <td id=\"T_900d5176_2084_11ea_8691_0242ac1c0002row4_col10\" class=\"data row4 col10\" >0.37</td>\n",
              "                        <td id=\"T_900d5176_2084_11ea_8691_0242ac1c0002row4_col11\" class=\"data row4 col11\" >-0.01</td>\n",
              "                        <td id=\"T_900d5176_2084_11ea_8691_0242ac1c0002row4_col12\" class=\"data row4 col12\" >-0.043</td>\n",
              "                        <td id=\"T_900d5176_2084_11ea_8691_0242ac1c0002row4_col13\" class=\"data row4 col13\" >0.1</td>\n",
              "                        <td id=\"T_900d5176_2084_11ea_8691_0242ac1c0002row4_col14\" class=\"data row4 col14\" >0.57</td>\n",
              "                        <td id=\"T_900d5176_2084_11ea_8691_0242ac1c0002row4_col15\" class=\"data row4 col15\" >0.32</td>\n",
              "                        <td id=\"T_900d5176_2084_11ea_8691_0242ac1c0002row4_col16\" class=\"data row4 col16\" >-0.13</td>\n",
              "            </tr>\n",
              "            <tr>\n",
              "                        <th id=\"T_900d5176_2084_11ea_8691_0242ac1c0002level0_row5\" class=\"row_heading level0 row5\" >idattack</th>\n",
              "                        <td id=\"T_900d5176_2084_11ea_8691_0242ac1c0002row5_col0\" class=\"data row5 col0\" >-0.084</td>\n",
              "                        <td id=\"T_900d5176_2084_11ea_8691_0242ac1c0002row5_col1\" class=\"data row5 col1\" >-0.019</td>\n",
              "                        <td id=\"T_900d5176_2084_11ea_8691_0242ac1c0002row5_col2\" class=\"data row5 col2\" >0.0043</td>\n",
              "                        <td id=\"T_900d5176_2084_11ea_8691_0242ac1c0002row5_col3\" class=\"data row5 col3\" >0.87</td>\n",
              "                        <td id=\"T_900d5176_2084_11ea_8691_0242ac1c0002row5_col4\" class=\"data row5 col4\" >0.83</td>\n",
              "                        <td id=\"T_900d5176_2084_11ea_8691_0242ac1c0002row5_col5\" class=\"data row5 col5\" >1</td>\n",
              "                        <td id=\"T_900d5176_2084_11ea_8691_0242ac1c0002row5_col6\" class=\"data row5 col6\" >0.87</td>\n",
              "                        <td id=\"T_900d5176_2084_11ea_8691_0242ac1c0002row5_col7\" class=\"data row5 col7\" >0.75</td>\n",
              "                        <td id=\"T_900d5176_2084_11ea_8691_0242ac1c0002row5_col8\" class=\"data row5 col8\" >0.48</td>\n",
              "                        <td id=\"T_900d5176_2084_11ea_8691_0242ac1c0002row5_col9\" class=\"data row5 col9\" >0.39</td>\n",
              "                        <td id=\"T_900d5176_2084_11ea_8691_0242ac1c0002row5_col10\" class=\"data row5 col10\" >0.25</td>\n",
              "                        <td id=\"T_900d5176_2084_11ea_8691_0242ac1c0002row5_col11\" class=\"data row5 col11\" >-0.076</td>\n",
              "                        <td id=\"T_900d5176_2084_11ea_8691_0242ac1c0002row5_col12\" class=\"data row5 col12\" >-0.11</td>\n",
              "                        <td id=\"T_900d5176_2084_11ea_8691_0242ac1c0002row5_col13\" class=\"data row5 col13\" >0.039</td>\n",
              "                        <td id=\"T_900d5176_2084_11ea_8691_0242ac1c0002row5_col14\" class=\"data row5 col14\" >0.68</td>\n",
              "                        <td id=\"T_900d5176_2084_11ea_8691_0242ac1c0002row5_col15\" class=\"data row5 col15\" >0.14</td>\n",
              "                        <td id=\"T_900d5176_2084_11ea_8691_0242ac1c0002row5_col16\" class=\"data row5 col16\" >-0.13</td>\n",
              "            </tr>\n",
              "            <tr>\n",
              "                        <th id=\"T_900d5176_2084_11ea_8691_0242ac1c0002level0_row6\" class=\"row_heading level0 row6\" >insult</th>\n",
              "                        <td id=\"T_900d5176_2084_11ea_8691_0242ac1c0002row6_col0\" class=\"data row6 col0\" >-0.084</td>\n",
              "                        <td id=\"T_900d5176_2084_11ea_8691_0242ac1c0002row6_col1\" class=\"data row6 col1\" >-0.054</td>\n",
              "                        <td id=\"T_900d5176_2084_11ea_8691_0242ac1c0002row6_col2\" class=\"data row6 col2\" >-0.033</td>\n",
              "                        <td id=\"T_900d5176_2084_11ea_8691_0242ac1c0002row6_col3\" class=\"data row6 col3\" >0.95</td>\n",
              "                        <td id=\"T_900d5176_2084_11ea_8691_0242ac1c0002row6_col4\" class=\"data row6 col4\" >0.93</td>\n",
              "                        <td id=\"T_900d5176_2084_11ea_8691_0242ac1c0002row6_col5\" class=\"data row6 col5\" >0.87</td>\n",
              "                        <td id=\"T_900d5176_2084_11ea_8691_0242ac1c0002row6_col6\" class=\"data row6 col6\" >1</td>\n",
              "                        <td id=\"T_900d5176_2084_11ea_8691_0242ac1c0002row6_col7\" class=\"data row6 col7\" >0.94</td>\n",
              "                        <td id=\"T_900d5176_2084_11ea_8691_0242ac1c0002row6_col8\" class=\"data row6 col8\" >0.56</td>\n",
              "                        <td id=\"T_900d5176_2084_11ea_8691_0242ac1c0002row6_col9\" class=\"data row6 col9\" >0.54</td>\n",
              "                        <td id=\"T_900d5176_2084_11ea_8691_0242ac1c0002row6_col10\" class=\"data row6 col10\" >0.36</td>\n",
              "                        <td id=\"T_900d5176_2084_11ea_8691_0242ac1c0002row6_col11\" class=\"data row6 col11\" >0.0042</td>\n",
              "                        <td id=\"T_900d5176_2084_11ea_8691_0242ac1c0002row6_col12\" class=\"data row6 col12\" >-0.05</td>\n",
              "                        <td id=\"T_900d5176_2084_11ea_8691_0242ac1c0002row6_col13\" class=\"data row6 col13\" >0.052</td>\n",
              "                        <td id=\"T_900d5176_2084_11ea_8691_0242ac1c0002row6_col14\" class=\"data row6 col14\" >0.64</td>\n",
              "                        <td id=\"T_900d5176_2084_11ea_8691_0242ac1c0002row6_col15\" class=\"data row6 col15\" >0.31</td>\n",
              "                        <td id=\"T_900d5176_2084_11ea_8691_0242ac1c0002row6_col16\" class=\"data row6 col16\" >-0.17</td>\n",
              "            </tr>\n",
              "            <tr>\n",
              "                        <th id=\"T_900d5176_2084_11ea_8691_0242ac1c0002level0_row7\" class=\"row_heading level0 row7\" >profane</th>\n",
              "                        <td id=\"T_900d5176_2084_11ea_8691_0242ac1c0002row7_col0\" class=\"data row7 col0\" >-0.071</td>\n",
              "                        <td id=\"T_900d5176_2084_11ea_8691_0242ac1c0002row7_col1\" class=\"data row7 col1\" >-0.053</td>\n",
              "                        <td id=\"T_900d5176_2084_11ea_8691_0242ac1c0002row7_col2\" class=\"data row7 col2\" >-0.035</td>\n",
              "                        <td id=\"T_900d5176_2084_11ea_8691_0242ac1c0002row7_col3\" class=\"data row7 col3\" >0.9</td>\n",
              "                        <td id=\"T_900d5176_2084_11ea_8691_0242ac1c0002row7_col4\" class=\"data row7 col4\" >0.92</td>\n",
              "                        <td id=\"T_900d5176_2084_11ea_8691_0242ac1c0002row7_col5\" class=\"data row7 col5\" >0.75</td>\n",
              "                        <td id=\"T_900d5176_2084_11ea_8691_0242ac1c0002row7_col6\" class=\"data row7 col6\" >0.94</td>\n",
              "                        <td id=\"T_900d5176_2084_11ea_8691_0242ac1c0002row7_col7\" class=\"data row7 col7\" >1</td>\n",
              "                        <td id=\"T_900d5176_2084_11ea_8691_0242ac1c0002row7_col8\" class=\"data row7 col8\" >0.59</td>\n",
              "                        <td id=\"T_900d5176_2084_11ea_8691_0242ac1c0002row7_col9\" class=\"data row7 col9\" >0.65</td>\n",
              "                        <td id=\"T_900d5176_2084_11ea_8691_0242ac1c0002row7_col10\" class=\"data row7 col10\" >0.4</td>\n",
              "                        <td id=\"T_900d5176_2084_11ea_8691_0242ac1c0002row7_col11\" class=\"data row7 col11\" >-0.0029</td>\n",
              "                        <td id=\"T_900d5176_2084_11ea_8691_0242ac1c0002row7_col12\" class=\"data row7 col12\" >-0.07</td>\n",
              "                        <td id=\"T_900d5176_2084_11ea_8691_0242ac1c0002row7_col13\" class=\"data row7 col13\" >0.057</td>\n",
              "                        <td id=\"T_900d5176_2084_11ea_8691_0242ac1c0002row7_col14\" class=\"data row7 col14\" >0.57</td>\n",
              "                        <td id=\"T_900d5176_2084_11ea_8691_0242ac1c0002row7_col15\" class=\"data row7 col15\" >0.41</td>\n",
              "                        <td id=\"T_900d5176_2084_11ea_8691_0242ac1c0002row7_col16\" class=\"data row7 col16\" >-0.17</td>\n",
              "            </tr>\n",
              "            <tr>\n",
              "                        <th id=\"T_900d5176_2084_11ea_8691_0242ac1c0002level0_row8\" class=\"row_heading level0 row8\" >threat</th>\n",
              "                        <td id=\"T_900d5176_2084_11ea_8691_0242ac1c0002row8_col0\" class=\"data row8 col0\" >-0.071</td>\n",
              "                        <td id=\"T_900d5176_2084_11ea_8691_0242ac1c0002row8_col1\" class=\"data row8 col1\" >-0.046</td>\n",
              "                        <td id=\"T_900d5176_2084_11ea_8691_0242ac1c0002row8_col2\" class=\"data row8 col2\" >0.001</td>\n",
              "                        <td id=\"T_900d5176_2084_11ea_8691_0242ac1c0002row8_col3\" class=\"data row8 col3\" >0.58</td>\n",
              "                        <td id=\"T_900d5176_2084_11ea_8691_0242ac1c0002row8_col4\" class=\"data row8 col4\" >0.62</td>\n",
              "                        <td id=\"T_900d5176_2084_11ea_8691_0242ac1c0002row8_col5\" class=\"data row8 col5\" >0.48</td>\n",
              "                        <td id=\"T_900d5176_2084_11ea_8691_0242ac1c0002row8_col6\" class=\"data row8 col6\" >0.56</td>\n",
              "                        <td id=\"T_900d5176_2084_11ea_8691_0242ac1c0002row8_col7\" class=\"data row8 col7\" >0.59</td>\n",
              "                        <td id=\"T_900d5176_2084_11ea_8691_0242ac1c0002row8_col8\" class=\"data row8 col8\" >1</td>\n",
              "                        <td id=\"T_900d5176_2084_11ea_8691_0242ac1c0002row8_col9\" class=\"data row8 col9\" >0.45</td>\n",
              "                        <td id=\"T_900d5176_2084_11ea_8691_0242ac1c0002row8_col10\" class=\"data row8 col10\" >0.37</td>\n",
              "                        <td id=\"T_900d5176_2084_11ea_8691_0242ac1c0002row8_col11\" class=\"data row8 col11\" >-0.15</td>\n",
              "                        <td id=\"T_900d5176_2084_11ea_8691_0242ac1c0002row8_col12\" class=\"data row8 col12\" >-0.2</td>\n",
              "                        <td id=\"T_900d5176_2084_11ea_8691_0242ac1c0002row8_col13\" class=\"data row8 col13\" >0.15</td>\n",
              "                        <td id=\"T_900d5176_2084_11ea_8691_0242ac1c0002row8_col14\" class=\"data row8 col14\" >0.36</td>\n",
              "                        <td id=\"T_900d5176_2084_11ea_8691_0242ac1c0002row8_col15\" class=\"data row8 col15\" >0.11</td>\n",
              "                        <td id=\"T_900d5176_2084_11ea_8691_0242ac1c0002row8_col16\" class=\"data row8 col16\" >-0.2</td>\n",
              "            </tr>\n",
              "            <tr>\n",
              "                        <th id=\"T_900d5176_2084_11ea_8691_0242ac1c0002level0_row9\" class=\"row_heading level0 row9\" >sexexp</th>\n",
              "                        <td id=\"T_900d5176_2084_11ea_8691_0242ac1c0002row9_col0\" class=\"data row9 col0\" >-0.049</td>\n",
              "                        <td id=\"T_900d5176_2084_11ea_8691_0242ac1c0002row9_col1\" class=\"data row9 col1\" >-0.067</td>\n",
              "                        <td id=\"T_900d5176_2084_11ea_8691_0242ac1c0002row9_col2\" class=\"data row9 col2\" >-0.06</td>\n",
              "                        <td id=\"T_900d5176_2084_11ea_8691_0242ac1c0002row9_col3\" class=\"data row9 col3\" >0.5</td>\n",
              "                        <td id=\"T_900d5176_2084_11ea_8691_0242ac1c0002row9_col4\" class=\"data row9 col4\" >0.58</td>\n",
              "                        <td id=\"T_900d5176_2084_11ea_8691_0242ac1c0002row9_col5\" class=\"data row9 col5\" >0.39</td>\n",
              "                        <td id=\"T_900d5176_2084_11ea_8691_0242ac1c0002row9_col6\" class=\"data row9 col6\" >0.54</td>\n",
              "                        <td id=\"T_900d5176_2084_11ea_8691_0242ac1c0002row9_col7\" class=\"data row9 col7\" >0.65</td>\n",
              "                        <td id=\"T_900d5176_2084_11ea_8691_0242ac1c0002row9_col8\" class=\"data row9 col8\" >0.45</td>\n",
              "                        <td id=\"T_900d5176_2084_11ea_8691_0242ac1c0002row9_col9\" class=\"data row9 col9\" >1</td>\n",
              "                        <td id=\"T_900d5176_2084_11ea_8691_0242ac1c0002row9_col10\" class=\"data row9 col10\" >0.63</td>\n",
              "                        <td id=\"T_900d5176_2084_11ea_8691_0242ac1c0002row9_col11\" class=\"data row9 col11\" >0.061</td>\n",
              "                        <td id=\"T_900d5176_2084_11ea_8691_0242ac1c0002row9_col12\" class=\"data row9 col12\" >-0.094</td>\n",
              "                        <td id=\"T_900d5176_2084_11ea_8691_0242ac1c0002row9_col13\" class=\"data row9 col13\" >0.1</td>\n",
              "                        <td id=\"T_900d5176_2084_11ea_8691_0242ac1c0002row9_col14\" class=\"data row9 col14\" >0.26</td>\n",
              "                        <td id=\"T_900d5176_2084_11ea_8691_0242ac1c0002row9_col15\" class=\"data row9 col15\" >0.32</td>\n",
              "                        <td id=\"T_900d5176_2084_11ea_8691_0242ac1c0002row9_col16\" class=\"data row9 col16\" >-0.18</td>\n",
              "            </tr>\n",
              "            <tr>\n",
              "                        <th id=\"T_900d5176_2084_11ea_8691_0242ac1c0002level0_row10\" class=\"row_heading level0 row10\" >flirt</th>\n",
              "                        <td id=\"T_900d5176_2084_11ea_8691_0242ac1c0002row10_col0\" class=\"data row10 col0\" >-0.044</td>\n",
              "                        <td id=\"T_900d5176_2084_11ea_8691_0242ac1c0002row10_col1\" class=\"data row10 col1\" >-0.084</td>\n",
              "                        <td id=\"T_900d5176_2084_11ea_8691_0242ac1c0002row10_col2\" class=\"data row10 col2\" >-0.063</td>\n",
              "                        <td id=\"T_900d5176_2084_11ea_8691_0242ac1c0002row10_col3\" class=\"data row10 col3\" >0.3</td>\n",
              "                        <td id=\"T_900d5176_2084_11ea_8691_0242ac1c0002row10_col4\" class=\"data row10 col4\" >0.37</td>\n",
              "                        <td id=\"T_900d5176_2084_11ea_8691_0242ac1c0002row10_col5\" class=\"data row10 col5\" >0.25</td>\n",
              "                        <td id=\"T_900d5176_2084_11ea_8691_0242ac1c0002row10_col6\" class=\"data row10 col6\" >0.36</td>\n",
              "                        <td id=\"T_900d5176_2084_11ea_8691_0242ac1c0002row10_col7\" class=\"data row10 col7\" >0.4</td>\n",
              "                        <td id=\"T_900d5176_2084_11ea_8691_0242ac1c0002row10_col8\" class=\"data row10 col8\" >0.37</td>\n",
              "                        <td id=\"T_900d5176_2084_11ea_8691_0242ac1c0002row10_col9\" class=\"data row10 col9\" >0.63</td>\n",
              "                        <td id=\"T_900d5176_2084_11ea_8691_0242ac1c0002row10_col10\" class=\"data row10 col10\" >1</td>\n",
              "                        <td id=\"T_900d5176_2084_11ea_8691_0242ac1c0002row10_col11\" class=\"data row10 col11\" >0.11</td>\n",
              "                        <td id=\"T_900d5176_2084_11ea_8691_0242ac1c0002row10_col12\" class=\"data row10 col12\" >-0.099</td>\n",
              "                        <td id=\"T_900d5176_2084_11ea_8691_0242ac1c0002row10_col13\" class=\"data row10 col13\" >0.1</td>\n",
              "                        <td id=\"T_900d5176_2084_11ea_8691_0242ac1c0002row10_col14\" class=\"data row10 col14\" >0.14</td>\n",
              "                        <td id=\"T_900d5176_2084_11ea_8691_0242ac1c0002row10_col15\" class=\"data row10 col15\" >0.21</td>\n",
              "                        <td id=\"T_900d5176_2084_11ea_8691_0242ac1c0002row10_col16\" class=\"data row10 col16\" >-0.12</td>\n",
              "            </tr>\n",
              "            <tr>\n",
              "                        <th id=\"T_900d5176_2084_11ea_8691_0242ac1c0002level0_row11\" class=\"row_heading level0 row11\" >a_author</th>\n",
              "                        <td id=\"T_900d5176_2084_11ea_8691_0242ac1c0002row11_col0\" class=\"data row11 col0\" >0.025</td>\n",
              "                        <td id=\"T_900d5176_2084_11ea_8691_0242ac1c0002row11_col1\" class=\"data row11 col1\" >-0.039</td>\n",
              "                        <td id=\"T_900d5176_2084_11ea_8691_0242ac1c0002row11_col2\" class=\"data row11 col2\" >-0.06</td>\n",
              "                        <td id=\"T_900d5176_2084_11ea_8691_0242ac1c0002row11_col3\" class=\"data row11 col3\" >0.0062</td>\n",
              "                        <td id=\"T_900d5176_2084_11ea_8691_0242ac1c0002row11_col4\" class=\"data row11 col4\" >-0.01</td>\n",
              "                        <td id=\"T_900d5176_2084_11ea_8691_0242ac1c0002row11_col5\" class=\"data row11 col5\" >-0.076</td>\n",
              "                        <td id=\"T_900d5176_2084_11ea_8691_0242ac1c0002row11_col6\" class=\"data row11 col6\" >0.0042</td>\n",
              "                        <td id=\"T_900d5176_2084_11ea_8691_0242ac1c0002row11_col7\" class=\"data row11 col7\" >-0.0029</td>\n",
              "                        <td id=\"T_900d5176_2084_11ea_8691_0242ac1c0002row11_col8\" class=\"data row11 col8\" >-0.15</td>\n",
              "                        <td id=\"T_900d5176_2084_11ea_8691_0242ac1c0002row11_col9\" class=\"data row11 col9\" >0.061</td>\n",
              "                        <td id=\"T_900d5176_2084_11ea_8691_0242ac1c0002row11_col10\" class=\"data row11 col10\" >0.11</td>\n",
              "                        <td id=\"T_900d5176_2084_11ea_8691_0242ac1c0002row11_col11\" class=\"data row11 col11\" >1</td>\n",
              "                        <td id=\"T_900d5176_2084_11ea_8691_0242ac1c0002row11_col12\" class=\"data row11 col12\" >0.56</td>\n",
              "                        <td id=\"T_900d5176_2084_11ea_8691_0242ac1c0002row11_col13\" class=\"data row11 col13\" >-0.11</td>\n",
              "                        <td id=\"T_900d5176_2084_11ea_8691_0242ac1c0002row11_col14\" class=\"data row11 col14\" >0.054</td>\n",
              "                        <td id=\"T_900d5176_2084_11ea_8691_0242ac1c0002row11_col15\" class=\"data row11 col15\" >0.07</td>\n",
              "                        <td id=\"T_900d5176_2084_11ea_8691_0242ac1c0002row11_col16\" class=\"data row11 col16\" >0.05</td>\n",
              "            </tr>\n",
              "            <tr>\n",
              "                        <th id=\"T_900d5176_2084_11ea_8691_0242ac1c0002level0_row12\" class=\"row_heading level0 row12\" >a_commentor</th>\n",
              "                        <td id=\"T_900d5176_2084_11ea_8691_0242ac1c0002row12_col0\" class=\"data row12 col0\" >0.053</td>\n",
              "                        <td id=\"T_900d5176_2084_11ea_8691_0242ac1c0002row12_col1\" class=\"data row12 col1\" >0.023</td>\n",
              "                        <td id=\"T_900d5176_2084_11ea_8691_0242ac1c0002row12_col2\" class=\"data row12 col2\" >-0.039</td>\n",
              "                        <td id=\"T_900d5176_2084_11ea_8691_0242ac1c0002row12_col3\" class=\"data row12 col3\" >0.00044</td>\n",
              "                        <td id=\"T_900d5176_2084_11ea_8691_0242ac1c0002row12_col4\" class=\"data row12 col4\" >-0.043</td>\n",
              "                        <td id=\"T_900d5176_2084_11ea_8691_0242ac1c0002row12_col5\" class=\"data row12 col5\" >-0.11</td>\n",
              "                        <td id=\"T_900d5176_2084_11ea_8691_0242ac1c0002row12_col6\" class=\"data row12 col6\" >-0.05</td>\n",
              "                        <td id=\"T_900d5176_2084_11ea_8691_0242ac1c0002row12_col7\" class=\"data row12 col7\" >-0.07</td>\n",
              "                        <td id=\"T_900d5176_2084_11ea_8691_0242ac1c0002row12_col8\" class=\"data row12 col8\" >-0.2</td>\n",
              "                        <td id=\"T_900d5176_2084_11ea_8691_0242ac1c0002row12_col9\" class=\"data row12 col9\" >-0.094</td>\n",
              "                        <td id=\"T_900d5176_2084_11ea_8691_0242ac1c0002row12_col10\" class=\"data row12 col10\" >-0.099</td>\n",
              "                        <td id=\"T_900d5176_2084_11ea_8691_0242ac1c0002row12_col11\" class=\"data row12 col11\" >0.56</td>\n",
              "                        <td id=\"T_900d5176_2084_11ea_8691_0242ac1c0002row12_col12\" class=\"data row12 col12\" >1</td>\n",
              "                        <td id=\"T_900d5176_2084_11ea_8691_0242ac1c0002row12_col13\" class=\"data row12 col13\" >-0.16</td>\n",
              "                        <td id=\"T_900d5176_2084_11ea_8691_0242ac1c0002row12_col14\" class=\"data row12 col14\" >0.034</td>\n",
              "                        <td id=\"T_900d5176_2084_11ea_8691_0242ac1c0002row12_col15\" class=\"data row12 col15\" >-0.0066</td>\n",
              "                        <td id=\"T_900d5176_2084_11ea_8691_0242ac1c0002row12_col16\" class=\"data row12 col16\" >0.1</td>\n",
              "            </tr>\n",
              "            <tr>\n",
              "                        <th id=\"T_900d5176_2084_11ea_8691_0242ac1c0002level0_row13\" class=\"row_heading level0 row13\" >incoh</th>\n",
              "                        <td id=\"T_900d5176_2084_11ea_8691_0242ac1c0002row13_col0\" class=\"data row13 col0\" >-0.054</td>\n",
              "                        <td id=\"T_900d5176_2084_11ea_8691_0242ac1c0002row13_col1\" class=\"data row13 col1\" >0.0039</td>\n",
              "                        <td id=\"T_900d5176_2084_11ea_8691_0242ac1c0002row13_col2\" class=\"data row13 col2\" >0.01</td>\n",
              "                        <td id=\"T_900d5176_2084_11ea_8691_0242ac1c0002row13_col3\" class=\"data row13 col3\" >0.047</td>\n",
              "                        <td id=\"T_900d5176_2084_11ea_8691_0242ac1c0002row13_col4\" class=\"data row13 col4\" >0.1</td>\n",
              "                        <td id=\"T_900d5176_2084_11ea_8691_0242ac1c0002row13_col5\" class=\"data row13 col5\" >0.039</td>\n",
              "                        <td id=\"T_900d5176_2084_11ea_8691_0242ac1c0002row13_col6\" class=\"data row13 col6\" >0.052</td>\n",
              "                        <td id=\"T_900d5176_2084_11ea_8691_0242ac1c0002row13_col7\" class=\"data row13 col7\" >0.057</td>\n",
              "                        <td id=\"T_900d5176_2084_11ea_8691_0242ac1c0002row13_col8\" class=\"data row13 col8\" >0.15</td>\n",
              "                        <td id=\"T_900d5176_2084_11ea_8691_0242ac1c0002row13_col9\" class=\"data row13 col9\" >0.1</td>\n",
              "                        <td id=\"T_900d5176_2084_11ea_8691_0242ac1c0002row13_col10\" class=\"data row13 col10\" >0.1</td>\n",
              "                        <td id=\"T_900d5176_2084_11ea_8691_0242ac1c0002row13_col11\" class=\"data row13 col11\" >-0.11</td>\n",
              "                        <td id=\"T_900d5176_2084_11ea_8691_0242ac1c0002row13_col12\" class=\"data row13 col12\" >-0.16</td>\n",
              "                        <td id=\"T_900d5176_2084_11ea_8691_0242ac1c0002row13_col13\" class=\"data row13 col13\" >1</td>\n",
              "                        <td id=\"T_900d5176_2084_11ea_8691_0242ac1c0002row13_col14\" class=\"data row13 col14\" >-0.044</td>\n",
              "                        <td id=\"T_900d5176_2084_11ea_8691_0242ac1c0002row13_col15\" class=\"data row13 col15\" >0.27</td>\n",
              "                        <td id=\"T_900d5176_2084_11ea_8691_0242ac1c0002row13_col16\" class=\"data row13 col16\" >-0.0063</td>\n",
              "            </tr>\n",
              "            <tr>\n",
              "                        <th id=\"T_900d5176_2084_11ea_8691_0242ac1c0002level0_row14\" class=\"row_heading level0 row14\" >inflam</th>\n",
              "                        <td id=\"T_900d5176_2084_11ea_8691_0242ac1c0002row14_col0\" class=\"data row14 col0\" >-0.021</td>\n",
              "                        <td id=\"T_900d5176_2084_11ea_8691_0242ac1c0002row14_col1\" class=\"data row14 col1\" >0.022</td>\n",
              "                        <td id=\"T_900d5176_2084_11ea_8691_0242ac1c0002row14_col2\" class=\"data row14 col2\" >0.035</td>\n",
              "                        <td id=\"T_900d5176_2084_11ea_8691_0242ac1c0002row14_col3\" class=\"data row14 col3\" >0.65</td>\n",
              "                        <td id=\"T_900d5176_2084_11ea_8691_0242ac1c0002row14_col4\" class=\"data row14 col4\" >0.57</td>\n",
              "                        <td id=\"T_900d5176_2084_11ea_8691_0242ac1c0002row14_col5\" class=\"data row14 col5\" >0.68</td>\n",
              "                        <td id=\"T_900d5176_2084_11ea_8691_0242ac1c0002row14_col6\" class=\"data row14 col6\" >0.64</td>\n",
              "                        <td id=\"T_900d5176_2084_11ea_8691_0242ac1c0002row14_col7\" class=\"data row14 col7\" >0.57</td>\n",
              "                        <td id=\"T_900d5176_2084_11ea_8691_0242ac1c0002row14_col8\" class=\"data row14 col8\" >0.36</td>\n",
              "                        <td id=\"T_900d5176_2084_11ea_8691_0242ac1c0002row14_col9\" class=\"data row14 col9\" >0.26</td>\n",
              "                        <td id=\"T_900d5176_2084_11ea_8691_0242ac1c0002row14_col10\" class=\"data row14 col10\" >0.14</td>\n",
              "                        <td id=\"T_900d5176_2084_11ea_8691_0242ac1c0002row14_col11\" class=\"data row14 col11\" >0.054</td>\n",
              "                        <td id=\"T_900d5176_2084_11ea_8691_0242ac1c0002row14_col12\" class=\"data row14 col12\" >0.034</td>\n",
              "                        <td id=\"T_900d5176_2084_11ea_8691_0242ac1c0002row14_col13\" class=\"data row14 col13\" >-0.044</td>\n",
              "                        <td id=\"T_900d5176_2084_11ea_8691_0242ac1c0002row14_col14\" class=\"data row14 col14\" >1</td>\n",
              "                        <td id=\"T_900d5176_2084_11ea_8691_0242ac1c0002row14_col15\" class=\"data row14 col15\" >0.26</td>\n",
              "                        <td id=\"T_900d5176_2084_11ea_8691_0242ac1c0002row14_col16\" class=\"data row14 col16\" >-0.11</td>\n",
              "            </tr>\n",
              "            <tr>\n",
              "                        <th id=\"T_900d5176_2084_11ea_8691_0242ac1c0002level0_row15\" class=\"row_heading level0 row15\" >obscene</th>\n",
              "                        <td id=\"T_900d5176_2084_11ea_8691_0242ac1c0002row15_col0\" class=\"data row15 col0\" >-0.011</td>\n",
              "                        <td id=\"T_900d5176_2084_11ea_8691_0242ac1c0002row15_col1\" class=\"data row15 col1\" >-0.055</td>\n",
              "                        <td id=\"T_900d5176_2084_11ea_8691_0242ac1c0002row15_col2\" class=\"data row15 col2\" >-0.017</td>\n",
              "                        <td id=\"T_900d5176_2084_11ea_8691_0242ac1c0002row15_col3\" class=\"data row15 col3\" >0.27</td>\n",
              "                        <td id=\"T_900d5176_2084_11ea_8691_0242ac1c0002row15_col4\" class=\"data row15 col4\" >0.32</td>\n",
              "                        <td id=\"T_900d5176_2084_11ea_8691_0242ac1c0002row15_col5\" class=\"data row15 col5\" >0.14</td>\n",
              "                        <td id=\"T_900d5176_2084_11ea_8691_0242ac1c0002row15_col6\" class=\"data row15 col6\" >0.31</td>\n",
              "                        <td id=\"T_900d5176_2084_11ea_8691_0242ac1c0002row15_col7\" class=\"data row15 col7\" >0.41</td>\n",
              "                        <td id=\"T_900d5176_2084_11ea_8691_0242ac1c0002row15_col8\" class=\"data row15 col8\" >0.11</td>\n",
              "                        <td id=\"T_900d5176_2084_11ea_8691_0242ac1c0002row15_col9\" class=\"data row15 col9\" >0.32</td>\n",
              "                        <td id=\"T_900d5176_2084_11ea_8691_0242ac1c0002row15_col10\" class=\"data row15 col10\" >0.21</td>\n",
              "                        <td id=\"T_900d5176_2084_11ea_8691_0242ac1c0002row15_col11\" class=\"data row15 col11\" >0.07</td>\n",
              "                        <td id=\"T_900d5176_2084_11ea_8691_0242ac1c0002row15_col12\" class=\"data row15 col12\" >-0.0066</td>\n",
              "                        <td id=\"T_900d5176_2084_11ea_8691_0242ac1c0002row15_col13\" class=\"data row15 col13\" >0.27</td>\n",
              "                        <td id=\"T_900d5176_2084_11ea_8691_0242ac1c0002row15_col14\" class=\"data row15 col14\" >0.26</td>\n",
              "                        <td id=\"T_900d5176_2084_11ea_8691_0242ac1c0002row15_col15\" class=\"data row15 col15\" >1</td>\n",
              "                        <td id=\"T_900d5176_2084_11ea_8691_0242ac1c0002row15_col16\" class=\"data row15 col16\" >-0.089</td>\n",
              "            </tr>\n",
              "            <tr>\n",
              "                        <th id=\"T_900d5176_2084_11ea_8691_0242ac1c0002level0_row16\" class=\"row_heading level0 row16\" >target_count</th>\n",
              "                        <td id=\"T_900d5176_2084_11ea_8691_0242ac1c0002row16_col0\" class=\"data row16 col0\" >0.11</td>\n",
              "                        <td id=\"T_900d5176_2084_11ea_8691_0242ac1c0002row16_col1\" class=\"data row16 col1\" >-0.011</td>\n",
              "                        <td id=\"T_900d5176_2084_11ea_8691_0242ac1c0002row16_col2\" class=\"data row16 col2\" >0.0092</td>\n",
              "                        <td id=\"T_900d5176_2084_11ea_8691_0242ac1c0002row16_col3\" class=\"data row16 col3\" >-0.15</td>\n",
              "                        <td id=\"T_900d5176_2084_11ea_8691_0242ac1c0002row16_col4\" class=\"data row16 col4\" >-0.13</td>\n",
              "                        <td id=\"T_900d5176_2084_11ea_8691_0242ac1c0002row16_col5\" class=\"data row16 col5\" >-0.13</td>\n",
              "                        <td id=\"T_900d5176_2084_11ea_8691_0242ac1c0002row16_col6\" class=\"data row16 col6\" >-0.17</td>\n",
              "                        <td id=\"T_900d5176_2084_11ea_8691_0242ac1c0002row16_col7\" class=\"data row16 col7\" >-0.17</td>\n",
              "                        <td id=\"T_900d5176_2084_11ea_8691_0242ac1c0002row16_col8\" class=\"data row16 col8\" >-0.2</td>\n",
              "                        <td id=\"T_900d5176_2084_11ea_8691_0242ac1c0002row16_col9\" class=\"data row16 col9\" >-0.18</td>\n",
              "                        <td id=\"T_900d5176_2084_11ea_8691_0242ac1c0002row16_col10\" class=\"data row16 col10\" >-0.12</td>\n",
              "                        <td id=\"T_900d5176_2084_11ea_8691_0242ac1c0002row16_col11\" class=\"data row16 col11\" >0.05</td>\n",
              "                        <td id=\"T_900d5176_2084_11ea_8691_0242ac1c0002row16_col12\" class=\"data row16 col12\" >0.1</td>\n",
              "                        <td id=\"T_900d5176_2084_11ea_8691_0242ac1c0002row16_col13\" class=\"data row16 col13\" >-0.0063</td>\n",
              "                        <td id=\"T_900d5176_2084_11ea_8691_0242ac1c0002row16_col14\" class=\"data row16 col14\" >-0.11</td>\n",
              "                        <td id=\"T_900d5176_2084_11ea_8691_0242ac1c0002row16_col15\" class=\"data row16 col15\" >-0.089</td>\n",
              "                        <td id=\"T_900d5176_2084_11ea_8691_0242ac1c0002row16_col16\" class=\"data row16 col16\" >1</td>\n",
              "            </tr>\n",
              "    </tbody></table>"
            ],
            "text/plain": [
              "<pandas.io.formats.style.Styler at 0x7f3ff5cfdac8>"
            ]
          },
          "metadata": {
            "tags": []
          },
          "execution_count": 26
        }
      ]
    },
    {
      "cell_type": "markdown",
      "metadata": {
        "id": "uJmKRq7W-LNf",
        "colab_type": "text"
      },
      "source": [
        "Based off the correlation plot above, we can't seem to notice a strong relationship between clicks and some of our continuous variables. Now let's build some plots to see if we can detect a linear or non-linear relationship betwee clicks and a few of our numerical variables. "
      ]
    },
    {
      "cell_type": "code",
      "metadata": {
        "id": "MHL_GIVCmG8G",
        "colab_type": "code",
        "outputId": "3f28c6cc-1b48-43bb-960f-c69c18c6fdc7",
        "colab": {
          "base_uri": "https://localhost:8080/",
          "height": 296
        }
      },
      "source": [
        "sns.scatterplot(x=\"insult\", y=\"clicks\", data=df)"
      ],
      "execution_count": 0,
      "outputs": [
        {
          "output_type": "execute_result",
          "data": {
            "text/plain": [
              "<matplotlib.axes._subplots.AxesSubplot at 0x7f3ff5c8e8d0>"
            ]
          },
          "metadata": {
            "tags": []
          },
          "execution_count": 27
        },
        {
          "output_type": "display_data",
          "data": {
            "image/png": "[encoded data removed]",
            "text/plain": [
              "<Figure size 432x288 with 1 Axes>"
            ]
          },
          "metadata": {
            "tags": []
          }
        }
      ]
    },
    {
      "cell_type": "code",
      "metadata": {
        "id": "7SG_PUIvReCg",
        "colab_type": "code",
        "outputId": "7c87a0da-1512-4423-d655-c2551734c862",
        "colab": {
          "base_uri": "https://localhost:8080/",
          "height": 297
        }
      },
      "source": [
        "sns.scatterplot(x=\"target_count\", y=\"clicks\", data=df)"
      ],
      "execution_count": 0,
      "outputs": [
        {
          "output_type": "execute_result",
          "data": {
            "text/plain": [
              "<matplotlib.axes._subplots.AxesSubplot at 0x7f3ff5c78710>"
            ]
          },
          "metadata": {
            "tags": []
          },
          "execution_count": 28
        },
        {
          "output_type": "display_data",
          "data": {
            "image/png": "[encoded data removed]",
            "text/plain": [
              "<Figure size 432x288 with 1 Axes>"
            ]
          },
          "metadata": {
            "tags": []
          }
        }
      ]
    },
    {
      "cell_type": "code",
      "metadata": {
        "id": "jxx3MSnNAPx7",
        "colab_type": "code",
        "outputId": "226bd049-53dc-4654-89c3-2732d0992584",
        "colab": {
          "base_uri": "https://localhost:8080/",
          "height": 296
        }
      },
      "source": [
        "sns.scatterplot(x=\"idattack\", y=\"clicks\", data=df)"
      ],
      "execution_count": 0,
      "outputs": [
        {
          "output_type": "execute_result",
          "data": {
            "text/plain": [
              "<matplotlib.axes._subplots.AxesSubplot at 0x7f3ff5ce65c0>"
            ]
          },
          "metadata": {
            "tags": []
          },
          "execution_count": 29
        },
        {
          "output_type": "display_data",
          "data": {
            "image/png": "[encoded data removed]",
            "text/plain": [
              "<Figure size 432x288 with 1 Axes>"
            ]
          },
          "metadata": {
            "tags": []
          }
        }
      ]
    },
    {
      "cell_type": "markdown",
      "metadata": {
        "id": "jXqx4MxyC2f5",
        "colab_type": "text"
      },
      "source": [
        "The scatterplots above take a few of the continuous variables and plot them against clicks. Based on the plots, the counts seem to cluster around where the scores for these variables are relatively now. We can't seem to truly determine from the scatterplots if there is a true linear or non-linear relationship between clicks and our variables, so let's take a look at some others. "
      ]
    },
    {
      "cell_type": "markdown",
      "metadata": {
        "id": "jd7qwk0r8foG",
        "colab_type": "text"
      },
      "source": [
        "Do election days make a difference in when people are clicking on ads?"
      ]
    },
    {
      "cell_type": "code",
      "metadata": {
        "id": "8UCH8PuUDHfr",
        "colab_type": "code",
        "outputId": "1d4615da-b5e3-42a4-c05d-4e221250466a",
        "colab": {
          "base_uri": "https://localhost:8080/",
          "height": 297
        }
      },
      "source": [
        "sns.scatterplot(x=\"days_elec_pminus\", y=\"clicks\", data=df)"
      ],
      "execution_count": 0,
      "outputs": [
        {
          "output_type": "execute_result",
          "data": {
            "text/plain": [
              "<matplotlib.axes._subplots.AxesSubplot at 0x7f3ff5cd6400>"
            ]
          },
          "metadata": {
            "tags": []
          },
          "execution_count": 30
        },
        {
          "output_type": "display_data",
          "data": {
            "image/png": "[encoded data removed]",
            "text/plain": [
              "<Figure size 432x288 with 1 Axes>"
            ]
          },
          "metadata": {
            "tags": []
          }
        }
      ]
    },
    {
      "cell_type": "markdown",
      "metadata": {
        "id": "DWO2RcYqEQ8Y",
        "colab_type": "text"
      },
      "source": [
        "Based on the scatterplot, it seems like more clicks are being generated when election time is nearing or a little past it, however it's tough to determine a relationship. "
      ]
    },
    {
      "cell_type": "markdown",
      "metadata": {
        "id": "YRCvoC3rEuzZ",
        "colab_type": "text"
      },
      "source": [
        "## Feature Engineering \n",
        "\n",
        "-   Developing new variables from our data that can help support a hypothesis\n",
        "\n"
      ]
    },
    {
      "cell_type": "markdown",
      "metadata": {
        "id": "uImyaCCRLMSG",
        "colab_type": "text"
      },
      "source": [
        "Hypothesis: There is an effect in the occurences of a presidential debates, and a user's engagement on social media posts. \n"
      ]
    },
    {
      "cell_type": "markdown",
      "metadata": {
        "id": "TnEWXVmr_bCq",
        "colab_type": "text"
      },
      "source": [
        "In order to test this, lets create 3 new columns to calculate the days to and days since each presidential debate. "
      ]
    },
    {
      "cell_type": "markdown",
      "metadata": {
        "id": "iW81Lt2VXd4a",
        "colab_type": "text"
      },
      "source": [
        "But first let's clean up our dataset by getting rid of columns we don't want."
      ]
    },
    {
      "cell_type": "code",
      "metadata": {
        "id": "u_I6uXr0XXQs",
        "colab_type": "code",
        "colab": {}
      },
      "source": [
        "del df['impress']\n",
        "del df['ctr']\n",
        "del df['campaignlength_old_dontuse']\n",
        "del df['clength']"
      ],
      "execution_count": 0,
      "outputs": []
    },
    {
      "cell_type": "markdown",
      "metadata": {
        "id": "f1_4hxhM41Mi",
        "colab_type": "text"
      },
      "source": [
        "Next, we can use the debate days to calculate the difference between the start date and the debate day for all 3 debates. "
      ]
    },
    {
      "cell_type": "code",
      "metadata": {
        "id": "uPT9LjJ1hqCO",
        "colab_type": "code",
        "colab": {}
      },
      "source": [
        "date1 = pd.to_datetime(df['launched '])\n",
        "Debate1 = pd.to_datetime('2016-09-26')\n",
        "DaystoDebate1 = Debate1-date1\n",
        "DaysToOrSinceDebate1 = DaystoDebate1.dt.days\n",
        "\n",
        "\n",
        "date2 = pd.to_datetime(df['launched '])\n",
        "Debate2 = pd.to_datetime('2016-10-09')\n",
        "DaystoDebate2 = Debate2-date2\n",
        "DaysToOrSinceDebate2 = DaystoDebate2.dt.days\n",
        "\n",
        "date3 = pd.to_datetime(df['launched '])\n",
        "Debate3 = pd.to_datetime('2016-10-19')\n",
        "DaystoDebate3 = Debate3-date3\n",
        "DaysToOrSinceDebate3 = DaystoDebate3.dt.days\n"
      ],
      "execution_count": 0,
      "outputs": []
    },
    {
      "cell_type": "code",
      "metadata": {
        "id": "c3Ywl-t6pN0C",
        "colab_type": "code",
        "colab": {}
      },
      "source": [
        "df.insert(6, 'Days to/Since Debate 1', DaysToOrSinceDebate1)"
      ],
      "execution_count": 0,
      "outputs": []
    },
    {
      "cell_type": "code",
      "metadata": {
        "id": "nWZ0011nrgx6",
        "colab_type": "code",
        "colab": {}
      },
      "source": [
        "df.insert(7, 'Days to/Since Debate 2', DaysToOrSinceDebate2)"
      ],
      "execution_count": 0,
      "outputs": []
    },
    {
      "cell_type": "code",
      "metadata": {
        "id": "H8Krun8Zrjvc",
        "colab_type": "code",
        "colab": {}
      },
      "source": [
        "df.insert(8, 'Days to/Since Debate 3', DaysToOrSinceDebate3)"
      ],
      "execution_count": 0,
      "outputs": []
    },
    {
      "cell_type": "markdown",
      "metadata": {
        "id": "g5H8GpSfBqql",
        "colab_type": "text"
      },
      "source": [
        "Now let's see if there was a relationship between any of our debate days and clicks. "
      ]
    },
    {
      "cell_type": "markdown",
      "metadata": {
        "id": "zavdxrqyExLF",
        "colab_type": "text"
      },
      "source": [
        "Our data has several categorical variables that can be used for this analysis. One way of grouping them is to see if they belong to a particular commuity. "
      ]
    },
    {
      "cell_type": "markdown",
      "metadata": {
        "id": "P2y6Q7HeFrzC",
        "colab_type": "text"
      },
      "source": [
        "A wordcloud can provide us with some insight into the most frequent words that are mentioned in the text of an ad. By finding out the most common words, we might be able to group some of the targets together. "
      ]
    },
    {
      "cell_type": "code",
      "metadata": {
        "id": "tGFo9P4DR7Xp",
        "colab_type": "code",
        "colab": {}
      },
      "source": [
        "from os import path\n",
        "from PIL import Image\n",
        "from wordcloud import WordCloud, STOPWORDS, ImageColorGenerator\n",
        "import matplotlib.pyplot as plt\n",
        "% matplotlib inline"
      ],
      "execution_count": 0,
      "outputs": []
    },
    {
      "cell_type": "code",
      "metadata": {
        "id": "W7BcLs7qXvv9",
        "colab_type": "code",
        "colab": {}
      },
      "source": [
        "df['text'] = df.text.astype(str)"
      ],
      "execution_count": 0,
      "outputs": []
    },
    {
      "cell_type": "code",
      "metadata": {
        "id": "_fYJ6yFzYLRB",
        "colab_type": "code",
        "outputId": "4b7ba185-42e9-47ab-c71b-e576c329a8ff",
        "colab": {
          "base_uri": "https://localhost:8080/",
          "height": 198
        }
      },
      "source": [
        "stopwords = set(STOPWORDS)\n",
        "stopwords.update([\"people\", \"will\", \"us\", \"one\",'time'])\n",
        "text = \" \".join(review for review in df.text)\n",
        "wordcloud = WordCloud(stopwords=stopwords, background_color=\"white\").generate(text)\n",
        "plt.imshow(wordcloud, interpolation='bilinear')\n",
        "plt.axis(\"off\")\n",
        "plt.show()"
      ],
      "execution_count": 0,
      "outputs": [
        {
          "output_type": "display_data",
          "data": {
            "image/png": "[encoded data removed]",
            "text/plain": [
              "<Figure size 432x288 with 1 Axes>"
            ]
          },
          "metadata": {
            "tags": []
          }
        }
      ]
    },
    {
      "cell_type": "markdown",
      "metadata": {
        "id": "QKqVp2iRGQez",
        "colab_type": "text"
      },
      "source": [
        "The wordcloud shows that the most common terms are associated with a community of people, such as black, the police force, or American. The following code groups people into 4 categories:\n",
        "\n",
        "1. Black/African American \n",
        "2. American Patriots\n",
        "3. People against police brutality\n",
        "4. Muslim community"
      ]
    },
    {
      "cell_type": "markdown",
      "metadata": {
        "id": "t8F34pAQUvk6",
        "colab_type": "text"
      },
      "source": [
        "First, let's group together individuals that have shared interests in Black/African American communities"
      ]
    },
    {
      "cell_type": "code",
      "metadata": {
        "id": "msNqRvOSJcPI",
        "colab_type": "code",
        "colab": {}
      },
      "source": [
        "df3 = df[[x for x in df.columns if \"Black\" in x]]\n",
        "df4 = df3.sum(axis = 1, skipna = True)\n",
        "\n",
        "df5 = df[[x for x in df.columns if \"African\" in x]]\n",
        "df6 = df5.sum(axis = 1, skipna = True)\n",
        "\n",
        "df7 = df4 + df6\n",
        "df7 = pd.DataFrame(df7)"
      ],
      "execution_count": 0,
      "outputs": []
    },
    {
      "cell_type": "code",
      "metadata": {
        "id": "Euq0h3gDPWfa",
        "colab_type": "code",
        "colab": {}
      },
      "source": [
        "df['Targeted Group: African Americans'] = df7"
      ],
      "execution_count": 0,
      "outputs": []
    },
    {
      "cell_type": "markdown",
      "metadata": {
        "id": "cIRZ5Hn0Vq9n",
        "colab_type": "text"
      },
      "source": [
        "Now let's repeat the process for American patriots."
      ]
    },
    {
      "cell_type": "code",
      "metadata": {
        "id": "anRAx_IGOqqO",
        "colab_type": "code",
        "colab": {}
      },
      "source": [
        "Patriot = df[[x for x in df.columns if \"Patr\" in x]]\n",
        "Patriot2 = Patriot.sum(axis = 1, skipna = True)\n",
        "\n",
        "Patriot3 = df[[x for x in df.columns if \"patr\" in x]]\n",
        "Patriot4 = Patriot3.sum(axis = 1, skipna = True)\n",
        "\n",
        "Patriot5 = Patriot2 + Patriot4\n",
        "Patriot5 = pd.DataFrame(Patriot5)"
      ],
      "execution_count": 0,
      "outputs": []
    },
    {
      "cell_type": "code",
      "metadata": {
        "id": "uUWMK4OmX5Uu",
        "colab_type": "code",
        "colab": {}
      },
      "source": [
        "df['Targeted Group: Patriots'] = Patriot5"
      ],
      "execution_count": 0,
      "outputs": []
    },
    {
      "cell_type": "markdown",
      "metadata": {
        "id": "Anu7eQS5kl3f",
        "colab_type": "text"
      },
      "source": [
        "People who are against Police brutality"
      ]
    },
    {
      "cell_type": "code",
      "metadata": {
        "id": "CizJHkxiizTI",
        "colab_type": "code",
        "colab": {}
      },
      "source": [
        "Brut = df[[x for x in df.columns if \"Brut\" in x]]\n",
        "Brut2 = Brut.sum(axis = 1, skipna = True)\n",
        "\n",
        "brut = df[[x for x in df.columns if \"brut\" in x]]\n",
        "brut2 = brut.sum(axis = 1, skipna = True)\n",
        "\n"
      ],
      "execution_count": 0,
      "outputs": []
    },
    {
      "cell_type": "code",
      "metadata": {
        "id": "plcKS1JGp9Rw",
        "colab_type": "code",
        "colab": {}
      },
      "source": [
        "Watch = df[[x for x in df.columns if \"watch\" in x]]\n",
        "Watch = Watch.sum(axis = 1, skipna = True)\n",
        "\n",
        "block = df[[x for x in df.columns if \"block\" in x]]\n",
        "block = block.sum(axis = 1, skipna = True)\n",
        "\n",
        "Block = df[[x for x in df.columns if \"Block\" in x]]\n",
        "Block = Block.sum(axis = 1, skipna = True)\n",
        "\n",
        "\n",
        "PoliceBrutality= Brut2 + brut2 + Watch + block + Block\n",
        "PoliceBrutality = pd.DataFrame(PoliceBrutality)"
      ],
      "execution_count": 0,
      "outputs": []
    },
    {
      "cell_type": "code",
      "metadata": {
        "id": "BAP56_vQ6box",
        "colab_type": "code",
        "colab": {}
      },
      "source": [
        "df['Targeted Group: Police Brutality'] = PoliceBrutality"
      ],
      "execution_count": 0,
      "outputs": []
    },
    {
      "cell_type": "markdown",
      "metadata": {
        "id": "fIFVw_jqt72V",
        "colab_type": "text"
      },
      "source": [
        "Even though we can't directly see the Muslim community in our wordcloud, let's look at the Muslim community as well. "
      ]
    },
    {
      "cell_type": "code",
      "metadata": {
        "id": "AxesbbyOuFPM",
        "colab_type": "code",
        "colab": {}
      },
      "source": [
        "mus = df[[x for x in df.columns if \"muslim\" in x]]\n",
        "mus = mus.sum(axis = 1, skipna = True)\n",
        "\n",
        "Mus = df[[x for x in df.columns if \"Muslim\" in x]]\n",
        "Mus = Mus.sum(axis = 1, skipna = True)\n",
        "\n",
        "Islam = df[[x for x in df.columns if \"Islam\" in x]]\n",
        "Islam = Islam.sum(axis = 1, skipna = True)\n",
        "\n",
        "IslamInterest = mus + Mus + Islam\n",
        "IslamInterest = pd.DataFrame(IslamInterest)"
      ],
      "execution_count": 0,
      "outputs": []
    },
    {
      "cell_type": "code",
      "metadata": {
        "id": "vmzw9nnz6j4Q",
        "colab_type": "code",
        "colab": {}
      },
      "source": [
        "df['Targeted Group: Muslims'] = IslamInterest"
      ],
      "execution_count": 0,
      "outputs": []
    },
    {
      "cell_type": "code",
      "metadata": {
        "id": "Mihwg3N7IBOZ",
        "colab_type": "code",
        "colab": {}
      },
      "source": [
        "df.to_csv(\"RussianFacebookAds.csv\",index=False)"
      ],
      "execution_count": 0,
      "outputs": []
    },
    {
      "cell_type": "markdown",
      "metadata": {
        "id": "YTlLV73pb0fB",
        "colab_type": "text"
      },
      "source": [
        "Now that we have our debate days and grouped targets, we can load it into Datarobot for model selection. "
      ]
    }
  ]
}